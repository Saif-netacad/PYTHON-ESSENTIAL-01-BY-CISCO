{
 "cells": [
  {
   "attachments": {
    "12e4b61c-78a6-4e1d-82db-56e3fb30f9a2.JPG": {
     "image/jpeg": "[encoded data removed]"
    }
   },
   "cell_type": "markdown",
   "id": "d4155b59-00a2-412e-9e32-424157bba693",
   "metadata": {},
   "source": [
    "# MODULE 03\n",
    "![Capture.JPG](attachment:12e4b61c-78a6-4e1d-82db-56e3fb30f9a2.JPG)"
   ]
  },
  {
   "cell_type": "markdown",
   "id": "4929c555-3051-4173-b088-97b0f4a01c98",
   "metadata": {},
   "source": [
    "- Bolean Values\n",
    "- Conditional Execution\n",
    "- Loops\n",
    "- Lists and List Processing\n",
    "- Logical and Bitwise Operators"
   ]
  },
  {
   "cell_type": "markdown",
   "id": "cafef959-f2a6-4367-8e85-aa5a1ca5737f",
   "metadata": {},
   "source": [
    "### Comparison: equality operator\n",
    "- Don't forget this important distinction:\r\n",
    "- \r\n",
    "= is an assignment operator, e.g., a = b assigns a with the value of b-             -> ;\r\n",
    "== is the question are these values equal? so a == b compares a and b."
   ]
  },
  {
   "cell_type": "code",
   "execution_count": 1,
   "id": "1e3ced86-7e0d-4e3e-9845-fd72793003af",
   "metadata": {},
   "outputs": [
    {
     "data": {
      "text/plain": [
       "True"
      ]
     },
     "execution_count": 1,
     "metadata": {},
     "output_type": "execute_result"
    }
   ],
   "source": [
    "5 == 5"
   ]
  },
  {
   "cell_type": "markdown",
   "id": "f0ee85a1-b26d-470c-b6d4-9298d63f9320",
   "metadata": {},
   "source": [
    "# <b>Operators<b>\n",
    "- Equality: the equal to operator (==)\n",
    "- Inequality: the not equal to operator (!=)\n",
    "- Comparison operators: greater than or equal to (>=)\n",
    "- Comparison operators: less than/less than or equal to( <=)\n",
    "  "
   ]
  },
  {
   "cell_type": "code",
   "execution_count": 2,
   "id": "31aa7752-c08b-4f6b-ac96-d133db247f99",
   "metadata": {},
   "outputs": [
    {
     "name": "stdout",
     "output_type": "stream",
     "text": [
      "True\n"
     ]
    }
   ],
   "source": [
    "#Equality: the equal to operator (==)\n",
    "op = 1\n",
    "print(op==1)"
   ]
  },
  {
   "cell_type": "code",
   "execution_count": 3,
   "id": "6db71e32-540c-40a1-8b93-e5116d45ce15",
   "metadata": {},
   "outputs": [
    {
     "name": "stdout",
     "output_type": "stream",
     "text": [
      "False\n"
     ]
    }
   ],
   "source": [
    "#Equality: the equal to operator (==)\n",
    "op = 2\n",
    "print(op == 1)"
   ]
  },
  {
   "cell_type": "code",
   "execution_count": 4,
   "id": "557baaf9-3d36-4506-b483-feefbb695340",
   "metadata": {},
   "outputs": [
    {
     "name": "stdout",
     "output_type": "stream",
     "text": [
      "True\n"
     ]
    }
   ],
   "source": [
    "#Inequality: the not equal to operator (!=)\n",
    "op2 = 5\n",
    "print( op2 != 1)"
   ]
  },
  {
   "cell_type": "code",
   "execution_count": 5,
   "id": "d609f3a6-6cbd-43d7-b4fc-c370898b066e",
   "metadata": {},
   "outputs": [
    {
     "name": "stdout",
     "output_type": "stream",
     "text": [
      "True\n"
     ]
    }
   ],
   "source": [
    "#Inequality: the not equal to operator (!=)\n",
    "op2 = 5\n",
    "print( op != 1)"
   ]
  },
  {
   "cell_type": "code",
   "execution_count": 6,
   "id": "8d2e5b91-523a-4e43-b130-7efefe78e5db",
   "metadata": {},
   "outputs": [
    {
     "data": {
      "text/plain": [
       "False"
      ]
     },
     "execution_count": 6,
     "metadata": {},
     "output_type": "execute_result"
    }
   ],
   "source": [
    "#Comparison operators: greater than\n",
    "op > op2 #op = 1  ---- op2 = 5"
   ]
  },
  {
   "cell_type": "code",
   "execution_count": 7,
   "id": "e8276c52-2843-4604-aa31-c5dc822b83f7",
   "metadata": {},
   "outputs": [
    {
     "data": {
      "text/plain": [
       "True"
      ]
     },
     "execution_count": 7,
     "metadata": {},
     "output_type": "execute_result"
    }
   ],
   "source": [
    "#Comparison operators: less than/less than or equal to\n",
    "op < op2 \n"
   ]
  },
  {
   "cell_type": "markdown",
   "id": "0f42d940-c60e-4632-b1a6-c7f40a8e4254",
   "metadata": {},
   "source": [
    "# Conditions and conditional execution"
   ]
  },
  {
   "cell_type": "code",
   "execution_count": 8,
   "id": "16e4e725-d37c-40c8-aee1-22f82d50635d",
   "metadata": {},
   "outputs": [
    {
     "ename": "NameError",
     "evalue": "name 'the_weather_is_good' is not defined",
     "output_type": "error",
     "traceback": [
      "\u001b[1;31m---------------------------------------------------------------------------\u001b[0m",
      "\u001b[1;31mNameError\u001b[0m                                 Traceback (most recent call last)",
      "Cell \u001b[1;32mIn[8], line 1\u001b[0m\n\u001b[1;32m----> 1\u001b[0m the_weather_is_good \u001b[38;5;241m==\u001b[39m \u001b[38;5;124m\"\u001b[39m\u001b[38;5;124mgood\u001b[39m\u001b[38;5;124m\"\u001b[39m\n\u001b[0;32m      2\u001b[0m have_lunch \u001b[38;5;241m=\u001b[39m \u001b[38;5;124m\"\u001b[39m\u001b[38;5;124myoo\u001b[39m\u001b[38;5;124m\"\u001b[39m\n\u001b[0;32m      3\u001b[0m \u001b[38;5;28;01mif\u001b[39;00m the_weather_is_good \u001b[38;5;241m==\u001b[39m \u001b[38;5;124m\"\u001b[39m\u001b[38;5;124mnot good\u001b[39m\u001b[38;5;124m\"\u001b[39m:\n",
      "\u001b[1;31mNameError\u001b[0m: name 'the_weather_is_good' is not defined"
     ]
    }
   ],
   "source": [
    "the_weather_is_good == \"good\"\n",
    "have_lunch = \"yoo\"\n",
    "if the_weather_is_good == \"not good\":\n",
    "    print(\"go_for_a_walk\")\n",
    "else:\n",
    "    print(\"have lunch\")"
   ]
  },
  {
   "cell_type": "markdown",
   "id": "3b8afe11-fee8-4d89-b861-dfe5d4512eb9",
   "metadata": {},
   "source": [
    "### Pseudocode and introduction to loops"
   ]
  },
  {
   "cell_type": "code",
   "execution_count": 9,
   "id": "63224938-5127-4a3c-8921-29b2b8fe4a0b",
   "metadata": {},
   "outputs": [
    {
     "name": "stdin",
     "output_type": "stream",
     "text": [
      " 2\n"
     ]
    }
   ],
   "source": [
    "largest_number = -999999999\n",
    "number = int(input())\n",
    "if number == -1:\n",
    "    print(largest_number)\n",
    "    exit()\n",
    "if number > largest_number:\n",
    "    largest_number = number\n",
    "# Go to line 02"
   ]
  },
  {
   "cell_type": "code",
   "execution_count": 10,
   "id": "cd148998-28ad-4088-96cf-50d413da01f7",
   "metadata": {},
   "outputs": [
    {
     "ename": "SyntaxError",
     "evalue": "invalid syntax (2794782493.py, line 6)",
     "output_type": "error",
     "traceback": [
      "\u001b[1;36m  Cell \u001b[1;32mIn[10], line 6\u001b[1;36m\u001b[0m\n\u001b[1;33m    largest_number = max(number1, number2, number3) .\u001b[0m\n\u001b[1;37m                                                     ^\u001b[0m\n\u001b[1;31mSyntaxError\u001b[0m\u001b[1;31m:\u001b[0m invalid syntax\n"
     ]
    }
   ],
   "source": [
    "number1 = int(input(\"Enter the first number: \"))\n",
    "number2 = int(input(\"Enter the second number: \"))\n",
    "number3 = int(input(\"Enter the third number: \"))\n",
    "# Check which one of the numbers is the greatest\n",
    "# and pass it to the largest_number variable.\n",
    "largest_number = max(number1, number2, number3) .\n",
    "print(\"The largest number is:\", largest_number)"
   ]
  },
  {
   "cell_type": "code",
   "execution_count": 12,
   "id": "61521e00-8434-4fe6-8dbf-d22cb380a9d0",
   "metadata": {},
   "outputs": [
    {
     "name": "stdin",
     "output_type": "stream",
     "text": [
      "Enter the annual income:  86500\n"
     ]
    },
    {
     "name": "stdout",
     "output_type": "stream",
     "text": [
      "The tax is: 1244.0 thalers\n"
     ]
    }
   ],
   "source": [
    "\n",
    "income = float(input(\"Enter the annual income: \"))\n",
    "tax=1244.0\n",
    "if income < 85528:\n",
    "\ttax = income * 0.18 - 556.02\n",
    "tax = round(tax, 0)\n",
    "print(\"The tax is:\", tax, \"thalers\")"
   ]
  },
  {
   "cell_type": "code",
   "execution_count": 13,
   "id": "914dda46-2b0d-4b6f-b8c6-1332b1b20415",
   "metadata": {},
   "outputs": [
    {
     "name": "stdin",
     "output_type": "stream",
     "text": [
      "Enter a year:  1482\n"
     ]
    },
    {
     "name": "stdout",
     "output_type": "stream",
     "text": [
      "Not within the Gregorian calendar period\n"
     ]
    }
   ],
   "source": [
    "year = int(input(\"Enter a year: \"))\n",
    "\n",
    "if year < 1582:\n",
    "\tprint(\"Not within the Gregorian calendar period\")\n",
    "else:\n",
    "    print(\"Check Agin\")"
   ]
  },
  {
   "cell_type": "code",
   "execution_count": 14,
   "id": "21ec6f87-71ff-46d6-baab-fa4216127c1f",
   "metadata": {},
   "outputs": [
    {
     "name": "stdout",
     "output_type": "stream",
     "text": [
      "x is greater than 5\n",
      "x is equal to 10\n"
     ]
    }
   ],
   "source": [
    "x = 10\n",
    "if x > 5: # condition one\n",
    "    print(\"x is greater than 5\")  # Executed if condition one is True.\n",
    "if x == 10: # condition two\n",
    "    print(\"x is equal to 10\")  # Executed if condition three is True"
   ]
  },
  {
   "cell_type": "code",
   "execution_count": 15,
   "id": "00c4ca28-72cb-496a-bd8d-5d76fad95ec6",
   "metadata": {},
   "outputs": [
    {
     "name": "stdout",
     "output_type": "stream",
     "text": [
      "nested: x == 10\n"
     ]
    }
   ],
   "source": [
    "x = 10\n",
    " \n",
    "if x > 5: # True\n",
    "    if x == 6: # False\n",
    "        print(\"nested: x == 6\")\n",
    "    elif x == 10: # True\n",
    "        print(\"nested: x == 10\")\n",
    "    else:\n",
    "        print(\"nested: else\")\n",
    "else:\n",
    "    print(\"else\")"
   ]
  },
  {
   "cell_type": "markdown",
   "id": "e0a427fa-e37e-4283-878d-0baca77f6a4c",
   "metadata": {},
   "source": [
    "# Exercise:"
   ]
  },
  {
   "cell_type": "code",
   "execution_count": 16,
   "id": "9e1ae06f-d1a3-42d9-a67c-f65ad46e884d",
   "metadata": {},
   "outputs": [
    {
     "name": "stdout",
     "output_type": "stream",
     "text": [
      "False\n",
      "True\n"
     ]
    }
   ],
   "source": [
    "x = 5\n",
    "y = 10\n",
    "z = 8\n",
    " \n",
    "print(x > y)\n",
    "print(y > z)"
   ]
  },
  {
   "cell_type": "code",
   "execution_count": 17,
   "id": "f4cb9d8f-9709-462c-b6e6-c31684a92e8f",
   "metadata": {},
   "outputs": [
    {
     "name": "stdout",
     "output_type": "stream",
     "text": [
      "False\n",
      "True\n"
     ]
    }
   ],
   "source": [
    "x, y, z = 5, 10, 8\n",
    " \n",
    "print(x > z)\n",
    "print((y - 5) == x)"
   ]
  },
  {
   "cell_type": "code",
   "execution_count": 18,
   "id": "6003d5d2-78b9-444a-8a12-3f35ed146881",
   "metadata": {},
   "outputs": [
    {
     "name": "stdout",
     "output_type": "stream",
     "text": [
      "True\n",
      "False\n"
     ]
    }
   ],
   "source": [
    "x, y, z = 5, 10, 8\n",
    "x, y, z = z, y, x\n",
    " \n",
    "print(x > z)\n",
    "print((y - 5) == x)"
   ]
  },
  {
   "cell_type": "code",
   "execution_count": 19,
   "id": "077e5a63-1ead-4a93-b99e-88f55f6d0c77",
   "metadata": {},
   "outputs": [
    {
     "name": "stdout",
     "output_type": "stream",
     "text": [
      "True\n",
      "True\n",
      "else\n"
     ]
    }
   ],
   "source": [
    "x = 10\n",
    " \n",
    "if x == 10:\n",
    "    print(x == 10)\n",
    "if x > 5:\n",
    "    print(x > 5)\n",
    "if x < 10:\n",
    "    print(x < 10)\n",
    "else:\n",
    "    print(\"else\")"
   ]
  },
  {
   "cell_type": "code",
   "execution_count": 20,
   "id": "5bf63086-7300-4be4-88ac-fff6f4b5390a",
   "metadata": {},
   "outputs": [
    {
     "name": "stdout",
     "output_type": "stream",
     "text": [
      "four\n",
      "five\n"
     ]
    }
   ],
   "source": [
    "x = \"1\"\n",
    " \n",
    "if x == 1:\n",
    "    print(\"one\")\n",
    "elif x == \"1\":\n",
    "    if int(x) > 1:\n",
    "        print(\"two\")\n",
    "    elif int(x) < 1:\n",
    "        print(\"three\")\n",
    "    else:\n",
    "        print(\"four\")\n",
    "if int(x) == 1:\n",
    "    print(\"five\")\n",
    "else:\n",
    "    print(\"six\")"
   ]
  },
  {
   "cell_type": "markdown",
   "id": "26d663ed-43bc-4db9-a300-fa0abaa8c9a9",
   "metadata": {},
   "source": [
    "# <b>LOOPS<b>"
   ]
  },
  {
   "cell_type": "code",
   "execution_count": 21,
   "id": "17a94090-45c2-4d71-bfda-850985038294",
   "metadata": {},
   "outputs": [
    {
     "name": "stdin",
     "output_type": "stream",
     "text": [
      "Enter a number or type -1 to stop:  5\n",
      "Enter a number or type -1 to stop:  4\n",
      "Enter a number or type -1 to stop:  3\n",
      "Enter a number or type -1 to stop:  2\n",
      "Enter a number or type -1 to stop:  1\n",
      "Enter a number or type -1 to stop:  -1\n"
     ]
    },
    {
     "name": "stdout",
     "output_type": "stream",
     "text": [
      "The largest number is: 5\n"
     ]
    }
   ],
   "source": [
    "# Store the current largest number here.\n",
    "largest_number = -999999999\n",
    "number = int(input(\"Enter a number or type -1 to stop: \"))\n",
    "while number != -1:\n",
    "    if number > largest_number:\n",
    "        largest_number = number\n",
    "    number = int(input(\"Enter a number or type -1 to stop: \"))\n",
    "print(\"The largest number is:\", largest_number)"
   ]
  },
  {
   "cell_type": "markdown",
   "id": "40882e69-f881-4b37-a5ac-c6246d2335a6",
   "metadata": {},
   "source": [
    "## The while loop: more examples"
   ]
  },
  {
   "cell_type": "code",
   "execution_count": 22,
   "id": "b6d099fb-81e6-4935-b7f4-32c85aa3151e",
   "metadata": {},
   "outputs": [
    {
     "name": "stdin",
     "output_type": "stream",
     "text": [
      "Enter a number or type 0 to stop:  5\n",
      "Enter a number or type 0 to stop:  4\n",
      "Enter a number or type 0 to stop:  3\n",
      "Enter a number or type 0 to stop:  2\n",
      "Enter a number or type 0 to stop:  1\n",
      "Enter a number or type 0 to stop:  0\n"
     ]
    },
    {
     "name": "stdout",
     "output_type": "stream",
     "text": [
      "Odd numbers count: 3\n",
      "Even numbers count: 2\n"
     ]
    }
   ],
   "source": [
    "# A program that reads a sequence of numbers\n",
    "# and counts how many numbers are even and how many are odd.\n",
    "# The program terminates when zero is entered.\n",
    "odd_numbers = 0\n",
    "even_numbers = 0 \n",
    "# Read the first number.\n",
    "number = int(input(\"Enter a number or type 0 to stop: \")) \n",
    "# 0 terminates execution.\n",
    "while number != 0:\n",
    "    # Check if the number is odd.\n",
    "    if number % 2 == 1:\n",
    "        # Increase the odd_numbers counter.\n",
    "        odd_numbers += 1\n",
    "    else:\n",
    "        # Increase the even_numbers counter.\n",
    "        even_numbers += 1\n",
    "    # Read the next number.\n",
    "    number = int(input(\"Enter a number or type 0 to stop: \"))\n",
    "# Print results.\n",
    "print(\"Odd numbers count:\", odd_numbers)\n",
    "print(\"Even numbers count:\", even_numbers)"
   ]
  },
  {
   "cell_type": "code",
   "execution_count": 23,
   "id": "9155af0a-1f2a-4f87-b266-59d430a56aec",
   "metadata": {},
   "outputs": [
    {
     "name": "stdout",
     "output_type": "stream",
     "text": [
      "Inside the loop. 10\n",
      "Inside the loop. 9\n",
      "Inside the loop. 8\n",
      "Inside the loop. 7\n",
      "Inside the loop. 6\n",
      "Inside the loop. 5\n",
      "Inside the loop. 4\n",
      "Inside the loop. 3\n",
      "Inside the loop. 2\n",
      "Inside the loop. 1\n",
      "Outside the loop. 0\n"
     ]
    }
   ],
   "source": [
    "counter = 10\n",
    "while counter != 0:\n",
    "    print(\"Inside the loop.\", counter)\n",
    "    counter -= 1\n",
    "print(\"Outside the loop.\", counter)"
   ]
  },
  {
   "cell_type": "code",
   "execution_count": 24,
   "id": "da9d5d09-d07c-48e5-9990-1dea18297bbb",
   "metadata": {},
   "outputs": [
    {
     "name": "stdout",
     "output_type": "stream",
     "text": [
      "Inside the loop. 5\n",
      "Inside the loop. 4\n",
      "Inside the loop. 3\n",
      "Inside the loop. 2\n",
      "Inside the loop. 1\n",
      "Outside the loop. 0\n"
     ]
    }
   ],
   "source": [
    "counter = 5\n",
    "while counter:\n",
    "    print(\"Inside the loop.\", counter)\n",
    "    counter -= 1\n",
    "print(\"Outside the loop.\", counter)"
   ]
  },
  {
   "cell_type": "code",
   "execution_count": 27,
   "id": "e18a8839-d47a-44c1-a605-963d1291c77c",
   "metadata": {},
   "outputs": [
    {
     "name": "stdout",
     "output_type": "stream",
     "text": [
      "i less tha 10\n",
      "i less tha 10\n",
      "i less tha 10\n",
      "i less tha 10\n",
      "i less tha 10\n",
      "i less tha 10\n",
      "i less tha 10\n",
      "i less tha 10\n",
      "i less tha 10\n",
      "i less tha 10\n"
     ]
    }
   ],
   "source": [
    "i = 0\n",
    "while i < 10: \n",
    "    print(\"i less tha 10\")\n",
    "    i += 1"
   ]
  },
  {
   "cell_type": "markdown",
   "id": "8543802e-aa9d-442b-a745-911397d3ac39",
   "metadata": {},
   "source": [
    "## FOR LOOPS"
   ]
  },
  {
   "cell_type": "code",
   "execution_count": 29,
   "id": "273e97f6-e9fc-406b-b8d6-67768f1f60c2",
   "metadata": {},
   "outputs": [
    {
     "name": "stdout",
     "output_type": "stream",
     "text": [
      "print range of 10\n",
      "print range of 10\n",
      "print range of 10\n",
      "print range of 10\n",
      "print range of 10\n"
     ]
    }
   ],
   "source": [
    "for i in range(5):\n",
    "    print(\"print range of 10\")\n",
    "    pass"
   ]
  },
  {
   "cell_type": "code",
   "execution_count": 30,
   "id": "59bf3e82-e58b-42da-be6d-ea57a98f6591",
   "metadata": {},
   "outputs": [
    {
     "name": "stdout",
     "output_type": "stream",
     "text": [
      "The value of i is currently 0\n",
      "The value of i is currently 1\n",
      "The value of i is currently 2\n",
      "The value of i is currently 3\n",
      "The value of i is currently 4\n",
      "The value of i is currently 5\n",
      "The value of i is currently 6\n",
      "The value of i is currently 7\n",
      "The value of i is currently 8\n",
      "The value of i is currently 9\n"
     ]
    }
   ],
   "source": [
    "for i in range(10):\n",
    "    print(\"The value of i is currently\", i)"
   ]
  },
  {
   "cell_type": "code",
   "execution_count": 31,
   "id": "ac6c2820-3945-4749-8d47-6a3aeb21e894",
   "metadata": {},
   "outputs": [
    {
     "name": "stdout",
     "output_type": "stream",
     "text": [
      "The value of i is currently 2\n",
      "The value of i is currently 3\n",
      "The value of i is currently 4\n",
      "The value of i is currently 5\n",
      "The value of i is currently 6\n",
      "The value of i is currently 7\n"
     ]
    }
   ],
   "source": [
    "for i in range(2, 8):\n",
    "    print(\"The value of i is currently\", i)"
   ]
  },
  {
   "cell_type": "code",
   "execution_count": 32,
   "id": "fa3e2bf1-a3fc-40a6-a844-548d3d3b0dc2",
   "metadata": {},
   "outputs": [
    {
     "name": "stdout",
     "output_type": "stream",
     "text": [
      "The value of i is currently 2\n",
      "The value of i is currently 5\n"
     ]
    }
   ],
   "source": [
    "for i in range(2, 8, 3):\n",
    "    print(\"The value of i is currently\", i)"
   ]
  },
  {
   "cell_type": "code",
   "execution_count": 33,
   "id": "d0155634-203c-438a-bf55-692dafefab1d",
   "metadata": {},
   "outputs": [
    {
     "ename": "SyntaxError",
     "evalue": "incomplete input (4128458351.py, line 3)",
     "output_type": "error",
     "traceback": [
      "\u001b[1;36m  Cell \u001b[1;32mIn[33], line 3\u001b[1;36m\u001b[0m\n\u001b[1;33m    print(\"The value of i is currently\", i\u001b[0m\n\u001b[1;37m                                          ^\u001b[0m\n\u001b[1;31mSyntaxError\u001b[0m\u001b[1;31m:\u001b[0m incomplete input\n"
     ]
    }
   ],
   "source": [
    "#there will be no output\n",
    "for i in range(1, 1):\n",
    "    print(\"The value of i is currently\", i"
   ]
  },
  {
   "cell_type": "code",
   "execution_count": 34,
   "id": "d3d34c6a-0b32-45af-8b57-bd52ae04c5f6",
   "metadata": {},
   "outputs": [
    {
     "name": "stdout",
     "output_type": "stream",
     "text": [
      "2 to the power of 0 is 1\n",
      "2 to the power of 1 is 2\n",
      "2 to the power of 2 is 4\n",
      "2 to the power of 3 is 8\n",
      "2 to the power of 4 is 16\n",
      "2 to the power of 5 is 32\n",
      "2 to the power of 6 is 64\n",
      "2 to the power of 7 is 128\n",
      "2 to the power of 8 is 256\n",
      "2 to the power of 9 is 512\n",
      "2 to the power of 10 is 1024\n",
      "2 to the power of 11 is 2048\n",
      "2 to the power of 12 is 4096\n",
      "2 to the power of 13 is 8192\n",
      "2 to the power of 14 is 16384\n",
      "2 to the power of 15 is 32768\n"
     ]
    }
   ],
   "source": [
    "power = 1\n",
    "for expo in range(16):\n",
    "    print(\"2 to the power of\", expo, \"is\", power)\n",
    "    power *= 2"
   ]
  },
  {
   "cell_type": "code",
   "execution_count": 1,
   "id": "556d2c4c-2cc4-4307-b050-88eb6ce76ea5",
   "metadata": {},
   "outputs": [],
   "source": [
    "import time"
   ]
  },
  {
   "cell_type": "markdown",
   "id": "b15eb626-fd6c-4932-bb0e-29e821156fdd",
   "metadata": {},
   "source": [
    "## The break and continue statements"
   ]
  },
  {
   "cell_type": "code",
   "execution_count": 8,
   "id": "2471cde7-b2c6-4ab4-8c71-a793814d3dad",
   "metadata": {},
   "outputs": [
    {
     "name": "stdout",
     "output_type": "stream",
     "text": [
      "1\n",
      "2\n",
      "3\n",
      "4\n",
      "5\n"
     ]
    }
   ],
   "source": [
    "for i in range (1,6):\n",
    "    print(i)"
   ]
  },
  {
   "cell_type": "code",
   "execution_count": 16,
   "id": "bc49fd16-6293-4a0b-8a98-74016fff8e3d",
   "metadata": {},
   "outputs": [
    {
     "name": "stdout",
     "output_type": "stream",
     "text": [
      "The break instruction:\n",
      "Inside the loop. 1\n",
      "Inside the loop. 2\n",
      "Outside the loop.\n",
      "\n",
      "The continue instruction:\n",
      "Inside the loop. 1\n",
      "Inside the loop. 2\n",
      "Inside the loop. 4\n",
      "Inside the loop. 5\n",
      "Outside the loop.\n"
     ]
    }
   ],
   "source": [
    "# break - example\n",
    "\n",
    "print(\"The break instruction:\")\n",
    "for i in range(1, 6):\n",
    "    if i == 3:\n",
    "        break\n",
    "    print(\"Inside the loop.\", i)\n",
    "print(\"Outside the loop.\")\n",
    "\n",
    "\n",
    "# continue - example\n",
    "\n",
    "print(\"\\nThe continue instruction:\")\n",
    "for i in range(1, 6):\n",
    "    if i == 3:\n",
    "        continue\n",
    "    print(\"Inside the loop.\", i)\n",
    "print(\"Outside the loop.\")\n"
   ]
  },
  {
   "cell_type": "code",
   "execution_count": 18,
   "id": "47286547-e662-4428-a2ba-15fb71cc068d",
   "metadata": {},
   "outputs": [
    {
     "name": "stdin",
     "output_type": "stream",
     "text": [
      "Enter a number or type -1 to end program:  55\n",
      "Enter a number or type -1 to end the program:  45\n",
      "Enter a number or type -1 to end the program:  35\n",
      "Enter a number or type -1 to end the program:  -1\n"
     ]
    },
    {
     "name": "stdout",
     "output_type": "stream",
     "text": [
      "The largest number is 55\n"
     ]
    }
   ],
   "source": [
    "largest_number = -99999999\n",
    "counter = 0\n",
    "number = int(input(\"Enter a number or type -1 to end program: \"))\n",
    "while number != -1:\n",
    "    if number == -1:\n",
    "        continue\n",
    "    counter += 1\n",
    "    if number > largest_number:\n",
    "        largest_number = number\n",
    "    number = int(input(\"Enter a number or type -1 to end the program: \"))\n",
    "if counter:\n",
    "    print(\"The largest number is\", largest_number)\n",
    "else:\n",
    "    print(\"You haven't entered any number.\")"
   ]
  },
  {
   "cell_type": "markdown",
   "id": "b1021373-226e-480e-abc2-9e99ff730253",
   "metadata": {},
   "source": [
    "## The while loop and the else branch"
   ]
  },
  {
   "cell_type": "code",
   "execution_count": 24,
   "id": "fc94e984-6be9-489b-9e19-f8099ed85928",
   "metadata": {},
   "outputs": [
    {
     "name": "stdout",
     "output_type": "stream",
     "text": [
      "1\n",
      "2\n",
      "3\n",
      "4\n",
      "else: 5\n"
     ]
    }
   ],
   "source": [
    "i = 1\n",
    "while i < 5:\n",
    "    print(i)\n",
    "    i += 1\n",
    "else:\n",
    "    print(\"else:\", i)"
   ]
  },
  {
   "cell_type": "code",
   "execution_count": 27,
   "id": "a3cb1b95-2f6d-4784-8306-d177840f25fb",
   "metadata": {},
   "outputs": [
    {
     "name": "stdout",
     "output_type": "stream",
     "text": [
      "0\n",
      "1\n",
      "2\n",
      "else: 2\n"
     ]
    }
   ],
   "source": [
    "for i in range(3):\n",
    "    print(i)\n",
    "else:\n",
    "    print(\"else:\", i)"
   ]
  },
  {
   "cell_type": "code",
   "execution_count": 32,
   "id": "0b2d575b-fe40-4638-9380-202d02f52aeb",
   "metadata": {},
   "outputs": [
    {
     "name": "stdout",
     "output_type": "stream",
     "text": [
      "else: 107\n"
     ]
    }
   ],
   "source": [
    "i = 107\n",
    "for i in range(2,1 ):\n",
    "    print(i)\n",
    "else:\n",
    "    print(\"else:\", i)\n"
   ]
  },
  {
   "cell_type": "code",
   "execution_count": 33,
   "id": "840a93f8-29d3-456a-b3dc-fe63dc7360fd",
   "metadata": {},
   "outputs": [
    {
     "name": "stdout",
     "output_type": "stream",
     "text": [
      "1\n",
      "3\n",
      "5\n",
      "7\n",
      "9\n"
     ]
    }
   ],
   "source": [
    "for i in range(0, 11):\n",
    "    if i % 2 != 0:\n",
    "        print(i)"
   ]
  },
  {
   "cell_type": "code",
   "execution_count": 34,
   "id": "d327a876-29d7-47c5-8007-47ebdceee3bb",
   "metadata": {},
   "outputs": [
    {
     "name": "stdout",
     "output_type": "stream",
     "text": [
      "1\n",
      "3\n",
      "5\n",
      "7\n",
      "9\n"
     ]
    }
   ],
   "source": [
    "x = 1\n",
    "while x < 11:\n",
    "    if x % 2 != 0:\n",
    "        print(x)\n",
    "    x += 1"
   ]
  },
  {
   "cell_type": "code",
   "execution_count": 35,
   "id": "9fbd7fba-1578-4e94-b8e3-fe7119d339a5",
   "metadata": {},
   "outputs": [
    {
     "name": "stdout",
     "output_type": "stream",
     "text": [
      "x165x318x651x"
     ]
    }
   ],
   "source": [
    "for digit in \"0165031806510\":\n",
    "    if digit == \"0\":\n",
    "        print(\"x\", end=\"\")\n",
    "        continue\n",
    "    print(digit, end=\"\")"
   ]
  },
  {
   "cell_type": "code",
   "execution_count": 38,
   "id": "ec9f307e-95d4-4777-94d9-c4df181d1f91",
   "metadata": {},
   "outputs": [
    {
     "name": "stdout",
     "output_type": "stream",
     "text": [
      "0\n",
      "1\n",
      "2\n",
      "3\n",
      "3\n"
     ]
    }
   ],
   "source": [
    "n = range(4)\n",
    " \n",
    "for num in n:\n",
    "    print(num * 1)\n",
    "else:\n",
    "    print(num)"
   ]
  },
  {
   "cell_type": "markdown",
   "id": "3dda39c3-cc33-47ad-8568-05ec823989de",
   "metadata": {},
   "source": [
    "# <b>LOGIC AND BIT OPERATOR<b>"
   ]
  },
  {
   "cell_type": "markdown",
   "id": "907ea0c4-137d-4766-9b16-c8095f272ae1",
   "metadata": {},
   "source": [
    "### The and operator"
   ]
  },
  {
   "cell_type": "code",
   "execution_count": 41,
   "id": "d3d81fb5-df90-4d81-a906-b3494e687b5d",
   "metadata": {},
   "outputs": [
    {
     "data": {
      "text/plain": [
       "True"
      ]
     },
     "execution_count": 41,
     "metadata": {},
     "output_type": "execute_result"
    }
   ],
   "source": [
    "value = 100\n",
    "counter > 0 and value == 100"
   ]
  },
  {
   "cell_type": "code",
   "execution_count": 42,
   "id": "50fe984c-8bec-4875-b467-2a16919cdf74",
   "metadata": {},
   "outputs": [
    {
     "data": {
      "text/plain": [
       "False"
      ]
     },
     "execution_count": 42,
     "metadata": {},
     "output_type": "execute_result"
    }
   ],
   "source": [
    "value = 50\n",
    "counter > 0 and value == 100"
   ]
  },
  {
   "cell_type": "markdown",
   "id": "2ca12202-cdaf-4de7-a6b9-14dabac07ed8",
   "metadata": {},
   "source": [
    "### OR Operator "
   ]
  },
  {
   "cell_type": "code",
   "execution_count": 49,
   "id": "0dd291a7-0f04-43b7-aea3-00224d97262a",
   "metadata": {},
   "outputs": [
    {
     "data": {
      "text/plain": [
       "True"
      ]
     },
     "execution_count": 49,
     "metadata": {},
     "output_type": "execute_result"
    }
   ],
   "source": [
    "var = 50\n",
    "counter > 0 or var == 100 # if any one condition true answer will return true"
   ]
  },
  {
   "cell_type": "code",
   "execution_count": 50,
   "id": "cc5a0bd9-d11d-403b-8449-d38dee254252",
   "metadata": {},
   "outputs": [
    {
     "data": {
      "text/plain": [
       "False"
      ]
     },
     "execution_count": 50,
     "metadata": {},
     "output_type": "execute_result"
    }
   ],
   "source": [
    "var == 100"
   ]
  },
  {
   "cell_type": "markdown",
   "id": "dd68f6ea-f01f-424d-a3ad-bafc937d106b",
   "metadata": {},
   "source": [
    "### The not operator"
   ]
  },
  {
   "cell_type": "code",
   "execution_count": 54,
   "id": "bc6fc12a-e7d8-42f5-8995-1b8917dd8587",
   "metadata": {},
   "outputs": [
    {
     "name": "stdout",
     "output_type": "stream",
     "text": [
      "False\n",
      "False\n"
     ]
    }
   ],
   "source": [
    "# Example 1:\n",
    "var = 100\n",
    "print(var > 200)\n",
    "print(not (var <= 200))"
   ]
  },
  {
   "cell_type": "code",
   "execution_count": 55,
   "id": "00e7cc4e-8528-40a3-849a-8b0d76eeaaef",
   "metadata": {},
   "outputs": [
    {
     "name": "stdout",
     "output_type": "stream",
     "text": [
      "True\n",
      "True\n"
     ]
    }
   ],
   "source": [
    "# Example 2:\n",
    "print(var != 0)\n",
    "print(not (var == 0))"
   ]
  },
  {
   "cell_type": "code",
   "execution_count": 60,
   "id": "988c65b3-75b9-4131-9470-b82a890ea003",
   "metadata": {},
   "outputs": [
    {
     "data": {
      "text/plain": [
       "True"
      ]
     },
     "execution_count": 60,
     "metadata": {},
     "output_type": "execute_result"
    }
   ],
   "source": [
    "# using and\n",
    "p = 10\n",
    "q = 10\n",
    "not (p and q) == (not p) or (not q)"
   ]
  },
  {
   "cell_type": "code",
   "execution_count": 62,
   "id": "7ea4e9ad-a2fb-4340-a434-98d0cb434a4c",
   "metadata": {},
   "outputs": [
    {
     "data": {
      "text/plain": [
       "False"
      ]
     },
     "execution_count": 62,
     "metadata": {},
     "output_type": "execute_result"
    }
   ],
   "source": [
    "# using or \n",
    "not (p or q) == (not p) and (not q)"
   ]
  },
  {
   "cell_type": "markdown",
   "id": "e5828f7b-974e-4604-9bc0-aab8d2cda5f9",
   "metadata": {},
   "source": [
    "### Bitwise operators"
   ]
  },
  {
   "cell_type": "raw",
   "id": "fad43383-3304-45c9-9686-b80626057cc5",
   "metadata": {},
   "source": [
    "& (ampersand) ‒ bitwise conjunction;\n",
    "| (bar) ‒ bitwise disjunction;\n",
    "~ (tilde) ‒ bitwise negation;\n",
    "^ (caret) ‒ bitwise exclusive or (xor)."
   ]
  },
  {
   "cell_type": "code",
   "execution_count": 65,
   "id": "7a6750c1-0826-4b8b-b05f-95f630f04a7c",
   "metadata": {},
   "outputs": [
    {
     "name": "stdout",
     "output_type": "stream",
     "text": [
      "0 5 -5 1 1 16\n"
     ]
    }
   ],
   "source": [
    "x = 4\n",
    "y = 1\n",
    " \n",
    "a = x & y\n",
    "b = x | y\n",
    "c = ~x  # tricky!\n",
    "d = x ^ 5\n",
    "e = x >> 2\n",
    "f = x << 2\n",
    " \n",
    "print(a, b, c, d, e, f)"
   ]
  },
  {
   "cell_type": "markdown",
   "id": "4aef26d2-d2d5-4902-9546-8c7d57ba721b",
   "metadata": {},
   "source": [
    "# <b>LISTS<b>"
   ]
  },
  {
   "cell_type": "code",
   "execution_count": 80,
   "id": "4c0bf791-3dcf-4605-a11e-3e10f83463ab",
   "metadata": {},
   "outputs": [],
   "source": [
    "list_one = [1,2,3,4,5]"
   ]
  },
  {
   "cell_type": "code",
   "execution_count": 81,
   "id": "1b133825-19b8-44e4-8f9f-10ae7db08893",
   "metadata": {},
   "outputs": [
    {
     "name": "stdout",
     "output_type": "stream",
     "text": [
      "printing list one: [1, 2, 3, 4, 5]\n"
     ]
    }
   ],
   "source": [
    "print(\"printing list one:\", list_one)"
   ]
  },
  {
   "cell_type": "code",
   "execution_count": 82,
   "id": "8af8c503-3aa6-4fdf-bd72-8638199c11c9",
   "metadata": {},
   "outputs": [
    {
     "data": {
      "text/plain": [
       "[111, 2, 3, 4, 5]"
      ]
     },
     "execution_count": 82,
     "metadata": {},
     "output_type": "execute_result"
    }
   ],
   "source": [
    "# putting new number at index 0\n",
    "list_one[0] = 111\n",
    "list_one"
   ]
  },
  {
   "cell_type": "code",
   "execution_count": 83,
   "id": "6bf48e66-47e1-4d9d-b300-3d295ffbd72b",
   "metadata": {},
   "outputs": [
    {
     "data": {
      "text/plain": [
       "[111, 2, 3, 5, 5]"
      ]
     },
     "execution_count": 83,
     "metadata": {},
     "output_type": "execute_result"
    }
   ],
   "source": [
    "# changing the position of number in the list\n",
    "list_one[3] = list_one[4]\n",
    "list_one"
   ]
  },
  {
   "cell_type": "code",
   "execution_count": 84,
   "id": "dfe8b29e-da57-4aea-b94e-60ae982d5044",
   "metadata": {},
   "outputs": [
    {
     "name": "stdout",
     "output_type": "stream",
     "text": [
      "5\n"
     ]
    }
   ],
   "source": [
    "#accessing list numbers \n",
    "print(list_one[3])"
   ]
  },
  {
   "cell_type": "markdown",
   "id": "333babe6-741f-4ccd-b621-3fbf002db857",
   "metadata": {},
   "source": [
    "### <b> len() -Function <b>"
   ]
  },
  {
   "cell_type": "code",
   "execution_count": 85,
   "id": "e020c7c0-419c-4daf-a419-81728ec45946",
   "metadata": {},
   "outputs": [
    {
     "data": {
      "text/plain": [
       "5"
      ]
     },
     "execution_count": 85,
     "metadata": {},
     "output_type": "execute_result"
    }
   ],
   "source": [
    "# accessing the lenghth of list\n",
    "len(list_one)"
   ]
  },
  {
   "cell_type": "code",
   "execution_count": 86,
   "id": "358ac1cd-ecea-4e18-bfaf-1f0b5821f1d3",
   "metadata": {},
   "outputs": [
    {
     "name": "stdout",
     "output_type": "stream",
     "text": [
      "4\n"
     ]
    }
   ],
   "source": [
    "del list_one[0] #deleting num at 0\n",
    "print(len(list_one))"
   ]
  },
  {
   "cell_type": "code",
   "execution_count": 87,
   "id": "a78d921e-6fe1-448b-ae9b-a3f2ae0eaa11",
   "metadata": {},
   "outputs": [
    {
     "name": "stdout",
     "output_type": "stream",
     "text": [
      "[2, 3, 5, 5]\n"
     ]
    }
   ],
   "source": [
    "print(list_one)"
   ]
  },
  {
   "cell_type": "code",
   "execution_count": 89,
   "id": "699fd08d-c75e-4a08-b5eb-03b86df3edbc",
   "metadata": {},
   "outputs": [
    {
     "name": "stdout",
     "output_type": "stream",
     "text": [
      "1\n"
     ]
    }
   ],
   "source": [
    "# accessing numbers from the last\n",
    "numbers = [111, 7, 2, 1]\n",
    "print(numbers[-1])"
   ]
  },
  {
   "cell_type": "markdown",
   "id": "20403a94-bf5a-4fec-8f72-89fb6e88d287",
   "metadata": {},
   "source": [
    "### <b>append() and insert()<b>"
   ]
  },
  {
   "cell_type": "code",
   "execution_count": 102,
   "id": "37b837cb-ba1b-489d-aa3b-03ba13bbcde0",
   "metadata": {},
   "outputs": [],
   "source": [
    "list_two = [ 9,8,7,6,5,4]"
   ]
  },
  {
   "cell_type": "code",
   "execution_count": 105,
   "id": "57ab8ebc-ddb0-46e6-b482-47379dcfc29e",
   "metadata": {},
   "outputs": [],
   "source": [
    "# appent()\n",
    "list_two.append(6)"
   ]
  },
  {
   "cell_type": "code",
   "execution_count": 106,
   "id": "6408b9f1-b122-48f3-a51a-6ba881f986ff",
   "metadata": {},
   "outputs": [
    {
     "data": {
      "text/plain": [
       "[9, 8, 7, 6, 5, 4, 6]"
      ]
     },
     "execution_count": 106,
     "metadata": {},
     "output_type": "execute_result"
    }
   ],
   "source": [
    "list_two"
   ]
  },
  {
   "cell_type": "code",
   "execution_count": 112,
   "id": "c69fb0c9-346b-4d03-8792-e337c7c336b3",
   "metadata": {},
   "outputs": [],
   "source": [
    "# insert()\n",
    "#it will put 10 at index 0\n",
    "list_two.insert(0,10)"
   ]
  },
  {
   "cell_type": "code",
   "execution_count": 113,
   "id": "72788bf6-950d-4132-92c0-52ad4fc08ddc",
   "metadata": {},
   "outputs": [
    {
     "data": {
      "text/plain": [
       "[10, 10, 9, 8, 7, 6, 5, 4, 6]"
      ]
     },
     "execution_count": 113,
     "metadata": {},
     "output_type": "execute_result"
    }
   ],
   "source": [
    "list_two"
   ]
  },
  {
   "cell_type": "code",
   "execution_count": 118,
   "id": "5594096f-dc97-4f52-966e-e9a8e417f343",
   "metadata": {},
   "outputs": [
    {
     "name": "stdout",
     "output_type": "stream",
     "text": [
      "[1, 2, 3, 4, 5, 6, 7, 8, 9, 10]\n"
     ]
    }
   ],
   "source": [
    "my_list = []  # Creating an empty list.\n",
    "for i in range(10):\n",
    "    my_list.append(i + 1)\n",
    "print(my_list)"
   ]
  },
  {
   "cell_type": "code",
   "execution_count": 119,
   "id": "9073c2aa-8720-4e6e-b2d2-f2bcfa43f6c7",
   "metadata": {},
   "outputs": [
    {
     "name": "stdout",
     "output_type": "stream",
     "text": [
      "[5, 4, 3, 2, 1]\n"
     ]
    }
   ],
   "source": [
    "my_list = []  # Creating an empty list. \n",
    "for i in range(5):\n",
    "    my_list.insert(0, i + 1) \n",
    "print(my_list)"
   ]
  },
  {
   "cell_type": "code",
   "execution_count": 120,
   "id": "e4601b8c-915c-4861-8b5c-b6586d0c0477",
   "metadata": {},
   "outputs": [
    {
     "name": "stdout",
     "output_type": "stream",
     "text": [
      "27\n"
     ]
    }
   ],
   "source": [
    "my_list = [10, 1, 8, 3, 5]\n",
    "total = 0\n",
    "for i in range(len(my_list)):\n",
    "    total += my_list[i]\n",
    "print(total)"
   ]
  },
  {
   "cell_type": "code",
   "execution_count": 121,
   "id": "a946d194-d08d-4bf2-9b97-9adfa681efce",
   "metadata": {},
   "outputs": [
    {
     "name": "stdout",
     "output_type": "stream",
     "text": [
      "white\n",
      "purple\n",
      "blue\n",
      "yellow\n",
      "green\n"
     ]
    }
   ],
   "source": [
    "my_list = [\"white\", \"purple\", \"blue\", \"yellow\", \"green\"]\n",
    " \n",
    "for color in my_list:\n",
    "    print(color)"
   ]
  },
  {
   "cell_type": "markdown",
   "id": "fb3afaa3-8c64-4d4e-b0d1-090c786bec04",
   "metadata": {},
   "source": [
    "### <b> Sorting a list <b>"
   ]
  },
  {
   "cell_type": "code",
   "execution_count": 123,
   "id": "f1259168-2d90-458f-aea4-50ad59d3e938",
   "metadata": {},
   "outputs": [],
   "source": [
    "list_3 = [ 10, 20,30,40,50,60,70,80,90]\n",
    "for i in range(len(list_3) -1):\n",
    "    if list_3[i] > list_3[i+1]:\n",
    "        list_3[i], list_3[i+1] = list_3[i+1],list_3[i]\n",
    "        print(list_3)"
   ]
  },
  {
   "cell_type": "code",
   "execution_count": 128,
   "id": "b0c4dfd5-2835-4373-8798-889a0adf71df",
   "metadata": {},
   "outputs": [
    {
     "name": "stdout",
     "output_type": "stream",
     "text": [
      "[10, 20, 30, 40, 50, 60, 70, 80, 90]\n"
     ]
    }
   ],
   "source": [
    "list_3 = [ 10, 20,30,40,50,60,70,80,90]\n",
    "swapped = True\n",
    "while swapped:\n",
    "    swapped = False  # no swaps so far\n",
    "    for i in range(len(list_3) - 1):\n",
    "        if list_3[i] > list_3[i + 1]:\n",
    "            swapped = True  # a swap occurred!\n",
    "            list_3[i], list_3[i + 1] = list_3[i + 1], list_3[i]\n",
    " \n",
    "print(list_3)"
   ]
  },
  {
   "cell_type": "code",
   "execution_count": 133,
   "id": "a2cc9476-2d4e-4672-a8ef-1dc5bd9dac02",
   "metadata": {},
   "outputs": [
    {
     "name": "stdin",
     "output_type": "stream",
     "text": [
      "How many elements do you want to sort:  5\n",
      "Enter a list element:  25\n",
      "Enter a list element:  55\n",
      "Enter a list element:  12\n",
      "Enter a list element:  35\n",
      "Enter a list element:  87\n"
     ]
    },
    {
     "name": "stdout",
     "output_type": "stream",
     "text": [
      "\n",
      "Sorted:\n",
      "[12.0, 25.0, 35.0, 55.0, 87.0]\n"
     ]
    }
   ],
   "source": [
    "my_list = []\n",
    "swapped = True\n",
    "num = int(input(\"How many elements do you want to sort: \"))\n",
    "for i in range(num):\n",
    "    val = float(input(\"Enter a list element: \"))\n",
    "    my_list.append(val)\n",
    "while swapped:\n",
    "    swapped = False\n",
    "    for i in range(len(my_list) - 1):\n",
    "        if my_list[i] > my_list[i + 1]:\n",
    "            swapped = True\n",
    "            my_list[i], my_list[i + 1] = my_list[i + 1], my_list[i]\n",
    "print(\"\\nSorted:\")\n",
    "print(my_list)"
   ]
  },
  {
   "cell_type": "code",
   "execution_count": 134,
   "id": "146d82a8-e2ac-400e-8faa-da97afd71e46",
   "metadata": {},
   "outputs": [
    {
     "name": "stdout",
     "output_type": "stream",
     "text": [
      "[2, 4, 6, 8, 10]\n"
     ]
    }
   ],
   "source": [
    "my_list = [8, 10, 6, 2, 4]\n",
    "my_list.sort()\n",
    "print(my_list)"
   ]
  },
  {
   "cell_type": "markdown",
   "id": "b7102eda-0b90-4888-a069-db4250301c08",
   "metadata": {},
   "source": [
    "# <b>Operation on List <b>"
   ]
  },
  {
   "cell_type": "code",
   "execution_count": 135,
   "id": "5a440dc6-4869-49c1-bbe4-2644eab2d400",
   "metadata": {},
   "outputs": [
    {
     "name": "stdout",
     "output_type": "stream",
     "text": [
      "[2]\n"
     ]
    }
   ],
   "source": [
    "list_4 = [1]\n",
    "list_5 = list_4\n",
    "list_4[0] = 2\n",
    "print(list_5)"
   ]
  },
  {
   "cell_type": "code",
   "execution_count": 136,
   "id": "337245ba-72e1-4137-baea-eb0d1491a6b9",
   "metadata": {},
   "outputs": [
    {
     "name": "stdout",
     "output_type": "stream",
     "text": [
      "[1]\n"
     ]
    }
   ],
   "source": [
    "list_6 = [1]\n",
    "list_7 = list_6[:]\n",
    "list_6[0] = 2\n",
    "print(list_7)"
   ]
  },
  {
   "cell_type": "code",
   "execution_count": 137,
   "id": "9c5d810f-3924-47b1-bb52-2ccc6c133744",
   "metadata": {},
   "outputs": [
    {
     "name": "stdout",
     "output_type": "stream",
     "text": [
      "[8, 6]\n"
     ]
    }
   ],
   "source": [
    "my_list = [10, 8, 6, 4, 2]\n",
    "new_list = my_list[1:3]\n",
    "print(new_list)"
   ]
  },
  {
   "cell_type": "code",
   "execution_count": 138,
   "id": "c92b4203-a3ca-4cdb-800a-44c5c8fd06f9",
   "metadata": {},
   "outputs": [
    {
     "name": "stdout",
     "output_type": "stream",
     "text": [
      "[8, 6]\n"
     ]
    }
   ],
   "source": [
    "# Copying some part of the list.\n",
    "my_list = [10, 8, 6, 4, 2]\n",
    "new_list = my_list[1:3]\n",
    "print(new_list)"
   ]
  },
  {
   "cell_type": "code",
   "execution_count": 139,
   "id": "06e43d8f-dab5-435d-8a85-cbb0d7ec3faa",
   "metadata": {},
   "outputs": [
    {
     "name": "stdout",
     "output_type": "stream",
     "text": [
      "[8, 6, 4]\n"
     ]
    }
   ],
   "source": [
    "# negative slices\n",
    "my_list = [10, 8, 6, 4, 2]\n",
    "new_list = my_list[1:-1]\n",
    "print(new_list)"
   ]
  },
  {
   "cell_type": "code",
   "execution_count": 140,
   "id": "ec818ba9-2833-4e75-82fa-161f8337dab7",
   "metadata": {},
   "outputs": [
    {
     "name": "stdout",
     "output_type": "stream",
     "text": [
      "[10, 8, 6]\n"
     ]
    }
   ],
   "source": [
    "my_list = [10, 8, 6, 4, 2]\n",
    "new_list = my_list[:3]\n",
    "print(new_list)"
   ]
  },
  {
   "cell_type": "markdown",
   "id": "2ee4f1eb-6be0-432f-8beb-c874666bc1bf",
   "metadata": {},
   "source": [
    "#### <b>del() function<b>"
   ]
  },
  {
   "cell_type": "code",
   "execution_count": 141,
   "id": "fa5b013c-e999-477b-be4a-b2107eedd3bc",
   "metadata": {},
   "outputs": [
    {
     "name": "stdout",
     "output_type": "stream",
     "text": [
      "[10, 4, 2]\n"
     ]
    }
   ],
   "source": [
    "my_list = [10, 8, 6, 4, 2]\n",
    "del my_list[1:3]\n",
    "print(my_list)"
   ]
  },
  {
   "cell_type": "markdown",
   "id": "49bada6b-fa7f-47ec-9660-016403cf6a9f",
   "metadata": {},
   "source": [
    "#### <b>The in and not in operators<b>"
   ]
  },
  {
   "cell_type": "code",
   "execution_count": 145,
   "id": "f5dd4a72-4bd4-48d5-b827-719122913e65",
   "metadata": {},
   "outputs": [
    {
     "data": {
      "text/plain": [
       "False"
      ]
     },
     "execution_count": 145,
     "metadata": {},
     "output_type": "execute_result"
    }
   ],
   "source": [
    "elem = [10,8,6,4]\n",
    "elem in my_list\n"
   ]
  },
  {
   "cell_type": "code",
   "execution_count": 146,
   "id": "8dbb14d4-7d40-4891-9870-9dfc681aed0e",
   "metadata": {},
   "outputs": [
    {
     "data": {
      "text/plain": [
       "True"
      ]
     },
     "execution_count": 146,
     "metadata": {},
     "output_type": "execute_result"
    }
   ],
   "source": [
    "\n",
    "elem not in my_list"
   ]
  },
  {
   "cell_type": "code",
   "execution_count": 147,
   "id": "12c610f5-4868-4c38-9add-36b55394722c",
   "metadata": {},
   "outputs": [
    {
     "name": "stdout",
     "output_type": "stream",
     "text": [
      "False\n",
      "True\n",
      "True\n"
     ]
    }
   ],
   "source": [
    "my_list = [0, 3, 12, 8, 2]\n",
    "\n",
    "print(5 in my_list)\n",
    "print(5 not in my_list)\n",
    "print(12 in my_list)\n"
   ]
  },
  {
   "cell_type": "code",
   "execution_count": 150,
   "id": "b1b57ed0-2829-4dfc-bef0-baf3518b4e0d",
   "metadata": {},
   "outputs": [
    {
     "name": "stdout",
     "output_type": "stream",
     "text": [
      "13\n"
     ]
    }
   ],
   "source": [
    "list = [3, 11, 5, 1, 9, 7, 13]\n",
    "largest = my_list[0]\n",
    "for i in range(1, len(list)):\n",
    "    if list[i] > largest:\n",
    "        largest = list[i]\n",
    "print(largest)"
   ]
  },
  {
   "cell_type": "code",
   "execution_count": 153,
   "id": "8df5779f-7e54-46ad-b2b6-8df8c88f23ea",
   "metadata": {},
   "outputs": [
    {
     "name": "stdout",
     "output_type": "stream",
     "text": [
      "Element found at index 7\n"
     ]
    }
   ],
   "source": [
    "my_list = [1, 2, 3, 4, 5, 6, 7, 8, 9, 10]\n",
    "to_find = 8\n",
    "found = False \n",
    "for i in range(len(my_list)):\n",
    "    found = my_list[i] == to_find\n",
    "    if found:\n",
    "        break\n",
    "if found:\n",
    "    print(\"Element found at index\", i)\n",
    "else:\n",
    "    print(\"absent\")"
   ]
  },
  {
   "cell_type": "code",
   "execution_count": 154,
   "id": "ff28e653-d9d7-4ea1-8416-ec94d9033a8e",
   "metadata": {},
   "outputs": [
    {
     "name": "stdout",
     "output_type": "stream",
     "text": [
      "absent\n"
     ]
    }
   ],
   "source": [
    "my_list = [1, 2, 3, 4, 5, 6, 7, 8, 9, 10]\n",
    "to_find = 12\n",
    "found = False \n",
    "for i in range(len(my_list)):\n",
    "    found = my_list[i] == to_find\n",
    "    if found:\n",
    "        break\n",
    "if found:\n",
    "    print(\"Element found at index\", i)\n",
    "else:\n",
    "    print(\"absent\")"
   ]
  },
  {
   "cell_type": "markdown",
   "id": "aa7c258f-d92f-44ae-a1a5-1d019bc4ad69",
   "metadata": {},
   "source": [
    "# <b> Lists in lists <b>"
   ]
  },
  {
   "cell_type": "code",
   "execution_count": 170,
   "id": "96a446e9-530b-4ec7-ae4c-4c01a5baa9b9",
   "metadata": {},
   "outputs": [],
   "source": [
    "row = []\n",
    "WHITE_PAWN = 6\n",
    "for i in range(8):\n",
    "    row.append(WHITE_PAWN)"
   ]
  },
  {
   "cell_type": "code",
   "execution_count": 171,
   "id": "ba6fff9b-0b69-45cb-8da8-2e2757de7ffc",
   "metadata": {},
   "outputs": [],
   "source": [
    "row = [WHITE_PAWN for i in range(8)]"
   ]
  },
  {
   "cell_type": "code",
   "execution_count": 172,
   "id": "87559abc-db09-4208-b0f5-d870de53b095",
   "metadata": {},
   "outputs": [
    {
     "data": {
      "text/plain": [
       "[6, 6, 6, 6, 6, 6, 6, 6]"
      ]
     },
     "execution_count": 172,
     "metadata": {},
     "output_type": "execute_result"
    }
   ],
   "source": [
    "row"
   ]
  },
  {
   "cell_type": "code",
   "execution_count": 173,
   "id": "00b27dec-e730-4ff0-b635-a1344a5f4dba",
   "metadata": {},
   "outputs": [],
   "source": [
    "squares = [x ** 2 for x in range(10)]"
   ]
  },
  {
   "cell_type": "code",
   "execution_count": 174,
   "id": "aa09e639-4d70-495f-8a27-e7ea55c0881a",
   "metadata": {},
   "outputs": [
    {
     "data": {
      "text/plain": [
       "[0, 1, 4, 9, 16, 25, 36, 49, 64, 81]"
      ]
     },
     "execution_count": 174,
     "metadata": {},
     "output_type": "execute_result"
    }
   ],
   "source": [
    "squares"
   ]
  },
  {
   "cell_type": "code",
   "execution_count": 175,
   "id": "2674aa30-73ef-4dba-aca1-ec8921b34779",
   "metadata": {},
   "outputs": [],
   "source": [
    "board = []\n",
    "EMPTY = [2]\n",
    "for i in range(8):\n",
    "    row = [EMPTY for i in range(8)]\n",
    "    board.append(row)"
   ]
  },
  {
   "cell_type": "code",
   "execution_count": 176,
   "id": "557d6ba5-0d6e-4e16-9d49-c4495024dcdd",
   "metadata": {},
   "outputs": [
    {
     "data": {
      "text/plain": [
       "[[[2], [2], [2], [2], [2], [2], [2], [2]],\n",
       " [[2], [2], [2], [2], [2], [2], [2], [2]],\n",
       " [[2], [2], [2], [2], [2], [2], [2], [2]],\n",
       " [[2], [2], [2], [2], [2], [2], [2], [2]],\n",
       " [[2], [2], [2], [2], [2], [2], [2], [2]],\n",
       " [[2], [2], [2], [2], [2], [2], [2], [2]],\n",
       " [[2], [2], [2], [2], [2], [2], [2], [2]],\n",
       " [[2], [2], [2], [2], [2], [2], [2], [2]]]"
      ]
     },
     "execution_count": 176,
     "metadata": {},
     "output_type": "execute_result"
    }
   ],
   "source": [
    "board"
   ]
  },
  {
   "cell_type": "code",
   "execution_count": null,
   "id": "02ca0e6f-bdcc-4e7a-804b-bde86ffda7be",
   "metadata": {},
   "outputs": [],
   "source": []
  }
 ],
 "metadata": {
  "kernelspec": {
   "display_name": "Python 3 (ipykernel)",
   "language": "python",
   "name": "python3"
  },
  "language_info": {
   "codemirror_mode": {
    "name": "ipython",
    "version": 3
   },
   "file_extension": ".py",
   "mimetype": "text/x-python",
   "name": "python",
   "nbconvert_exporter": "python",
   "pygments_lexer": "ipython3",
   "version": "3.11.7"
  }
 },
 "nbformat": 4,
 "nbformat_minor": 5
}
