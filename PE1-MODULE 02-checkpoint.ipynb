{
 "cells": [
  {
   "attachments": {
    "88421d36-1c32-4015-8958-3633b2509fda.JPG": {
     "image/jpeg": "[encoded data removed]"
    }
   },
   "cell_type": "markdown",
   "id": "6c2f6397-aa64-4deb-a658-f218e61a2632",
   "metadata": {},
   "source": [
    "# Python Essentials 1\n",
    "## CISCO \n",
    "![Capture.JPG](attachment:88421d36-1c32-4015-8958-3633b2509fda.JPG)"
   ]
  },
  {
   "cell_type": "markdown",
   "id": "dd623170-255b-47b4-9ffe-887d99ffd21d",
   "metadata": {},
   "source": [
    "# syllabus\n",
    "- The course is divided into four modules:\n",
    "\n",
    "### Module 1\n",
    "- Introduction to Python and computer programming;\n",
    "### Module 2\n",
    "- Data types, variables, basic input-output operations, and basic operators;\n",
    "### Module 3\n",
    "- Boolean values, conditional execution, loops, lists and list processing, logical and bitwise operations;\n",
    "### Module 4\n",
    "- Functions, tuples, dictionaries, exceptions, and data processing.\n"
   ]
  },
  {
   "cell_type": "markdown",
   "id": "3ba65fbe-325d-44e0-9737-aeaa6ab11ee2",
   "metadata": {},
   "source": [
    " # MODULE-01\n",
    " - Introduction to Python and Computer Programming"
   ]
  },
  {
   "cell_type": "markdown",
   "id": "f4e90b56-b7c0-40ea-b113-1c0dd2b743a9",
   "metadata": {},
   "source": [
    "# MODULE-02\n",
    "- Data types\n",
    "- Variables \n",
    "- Basic input-output operations\n",
    "- Basic operators"
   ]
  },
  {
   "cell_type": "code",
   "execution_count": 4,
   "id": "85c25172-3f85-4cc4-a7de-f44b7f7edb73",
   "metadata": {},
   "outputs": [
    {
     "name": "stdout",
     "output_type": "stream",
     "text": [
      "Hello, World!\n"
     ]
    }
   ],
   "source": [
    "print(\"Hello, World!\") #print is buil in function in python with closing prenthesis ()\n",
    "#and inverted commas \"\" at start and end in it "
   ]
  },
  {
   "cell_type": "markdown",
   "id": "0669a2f7-0a2a-4d56-995a-e4f7d9ed4f01",
   "metadata": {},
   "source": [
    "# String\n",
    "- the string is delimited with quotes"
   ]
  },
  {
   "cell_type": "code",
   "execution_count": 6,
   "id": "574e53e9-c245-4387-85fd-b13b70b0e7f6",
   "metadata": {},
   "outputs": [
    {
     "name": "stdout",
     "output_type": "stream",
     "text": [
      "Hello, World!\n"
     ]
    }
   ],
   "source": [
    "print(\"Hello, World!\") # here \"Hello, World!\" is a string"
   ]
  },
  {
   "cell_type": "code",
   "execution_count": 8,
   "id": "b5fe775e-bd5d-4fb0-8875-749ea1faf4bc",
   "metadata": {},
   "outputs": [
    {
     "name": "stdout",
     "output_type": "stream",
     "text": [
      "Python is widely \n",
      " used programming language\n"
     ]
    }
   ],
   "source": [
    "#Escape and new line \n",
    "print(\"Python is widely \\n used programming language\") # \\n after that result will be shown in new line"
   ]
  },
  {
   "cell_type": "code",
   "execution_count": 12,
   "id": "b3b03342-53c2-4569-8694-e4b6ad8116e5",
   "metadata": {},
   "outputs": [
    {
     "name": "stdout",
     "output_type": "stream",
     "text": [
      "My Name is Python\n"
     ]
    }
   ],
   "source": [
    "# this code will combine two line into one\n",
    "print(\"My Name is\" , end=\" \")\n",
    "print(\"Python\")"
   ]
  },
  {
   "cell_type": "code",
   "execution_count": 17,
   "id": "67422b1a-607e-4ccf-ab72-8c69828a6cb8",
   "metadata": {},
   "outputs": [
    {
     "name": "stdout",
     "output_type": "stream",
     "text": [
      "My-Name-Is-Python\n"
     ]
    }
   ],
   "source": [
    "# sep=\"-\" will put - after every word \n",
    "print(\"My\", \"Name\", \"Is\", \"Python\", sep=\"-\") "
   ]
  },
  {
   "cell_type": "code",
   "execution_count": 18,
   "id": "d2f1f300-cbd1-4522-93f8-301e9498d042",
   "metadata": {},
   "outputs": [
    {
     "name": "stdout",
     "output_type": "stream",
     "text": [
      "    *\n",
      "   * *\n",
      "  *   *\n",
      " *     *\n",
      "***   ***\n",
      "  *   *\n",
      "  *   *\n",
      "  *****\n"
     ]
    }
   ],
   "source": [
    "print(\"    *\")\n",
    "print(\"   * *\")\n",
    "print(\"  *   *\")\n",
    "print(\" *     *\")\n",
    "print(\"***   ***\")\n",
    "print(\"  *   *\")\n",
    "print(\"  *   *\")\n",
    "print(\"  *****\")"
   ]
  },
  {
   "cell_type": "markdown",
   "id": "31b3559a-f610-453f-b54f-5576e356af80",
   "metadata": {},
   "source": [
    "## Literals – the data in itself\n",
    "- A literal is data whose values are determined by the literal itself."
   ]
  },
  {
   "cell_type": "code",
   "execution_count": 19,
   "id": "f30ae898-bbf5-4aef-8a00-45b64090a006",
   "metadata": {},
   "outputs": [
    {
     "data": {
      "text/plain": [
       "123"
      ]
     },
     "execution_count": 19,
     "metadata": {},
     "output_type": "execute_result"
    }
   ],
   "source": [
    "123\n"
   ]
  },
  {
   "cell_type": "code",
   "execution_count": 21,
   "id": "0bfe35f2-8362-4c26-bc03-73420ea74d7a",
   "metadata": {},
   "outputs": [
    {
     "name": "stdout",
     "output_type": "stream",
     "text": [
      "123\n",
      "123\n"
     ]
    }
   ],
   "source": [
    "print(\"123\") #a string, which you already know,\n",
    "print(123) #integer number,"
   ]
  },
  {
   "cell_type": "markdown",
   "id": "3dc05b5c-65ac-4bd0-88d9-103351c62dc6",
   "metadata": {},
   "source": [
    "##  Integers\n",
    "- integers, that is, those which are devoid of the fractional part;"
   ]
  },
  {
   "cell_type": "code",
   "execution_count": 22,
   "id": "6d8ed843-245e-493c-afc3-2d2acc2f6166",
   "metadata": {},
   "outputs": [
    {
     "name": "stdout",
     "output_type": "stream",
     "text": [
      "123\n"
     ]
    },
    {
     "data": {
      "text/plain": [
       "int"
      ]
     },
     "execution_count": 22,
     "metadata": {},
     "output_type": "execute_result"
    }
   ],
   "source": [
    "print(123) # 123 are integers \n",
    "type(123) # type is cammand to check data types"
   ]
  },
  {
   "cell_type": "markdown",
   "id": "d38a0c22-f9e7-4318-af6e-766282349758",
   "metadata": {},
   "source": [
    "## Floats\n",
    "- have a non-empty decimal fraction"
   ]
  },
  {
   "cell_type": "code",
   "execution_count": 23,
   "id": "400868ca-9fa7-4a1c-9a7b-190b450cf5f2",
   "metadata": {},
   "outputs": [
    {
     "name": "stdout",
     "output_type": "stream",
     "text": [
      "2.2\n"
     ]
    },
    {
     "data": {
      "text/plain": [
       "float"
      ]
     },
     "execution_count": 23,
     "metadata": {},
     "output_type": "execute_result"
    }
   ],
   "source": [
    "print(2.2) # here, 2.2 is decimal form so it is floats\n",
    "type(2.2)"
   ]
  },
  {
   "cell_type": "code",
   "execution_count": 24,
   "id": "63c68236-ca0c-423d-90fe-a0396c040f1c",
   "metadata": {},
   "outputs": [
    {
     "name": "stdout",
     "output_type": "stream",
     "text": [
      "1e-22\n"
     ]
    }
   ],
   "source": [
    "print(0.0000000000000000000001)"
   ]
  },
  {
   "cell_type": "markdown",
   "id": "c9079ffc-e4f5-48c8-86f8-7517dc044da0",
   "metadata": {},
   "source": [
    "## Boolean values\n",
    " Fortunately, computers know only two kinds of answers:\n",
    "\n",
    "- True\n",
    "- False"
   ]
  },
  {
   "cell_type": "code",
   "execution_count": 26,
   "id": "2ef9b06f-63df-4fb3-9b24-745557697632",
   "metadata": {},
   "outputs": [
    {
     "name": "stdout",
     "output_type": "stream",
     "text": [
      "True\n",
      "False\n"
     ]
    }
   ],
   "source": [
    "print(True > False)\n",
    "print(True < False)"
   ]
  },
  {
   "cell_type": "markdown",
   "id": "340997df-eb77-4e43-aa01-37ac5ecf747c",
   "metadata": {},
   "source": [
    "# Operators"
   ]
  },
  {
   "cell_type": "code",
   "execution_count": 31,
   "id": "ea95dd06-d920-4c5c-8a88-f6e10b16a045",
   "metadata": {},
   "outputs": [
    {
     "name": "stdout",
     "output_type": "stream",
     "text": [
      "64\n"
     ]
    }
   ],
   "source": [
    "# Exponent ** \n",
    "print(8**2)"
   ]
  },
  {
   "cell_type": "code",
   "execution_count": 32,
   "id": "41746a57-42ce-4e26-8eba-903f4a80a979",
   "metadata": {},
   "outputs": [
    {
     "name": "stdout",
     "output_type": "stream",
     "text": [
      "16\n"
     ]
    }
   ],
   "source": [
    "# Multiplication *\n",
    "print(8*2)"
   ]
  },
  {
   "cell_type": "code",
   "execution_count": 33,
   "id": "0bbb92e5-6030-4ed8-9655-bd7c5a668766",
   "metadata": {},
   "outputs": [
    {
     "name": "stdout",
     "output_type": "stream",
     "text": [
      "4.0\n"
     ]
    }
   ],
   "source": [
    "# Division /\n",
    "print(8/2)"
   ]
  },
  {
   "cell_type": "code",
   "execution_count": 35,
   "id": "618828ff-8a6f-4ff0-b617-e62e34fc5a88",
   "metadata": {},
   "outputs": [
    {
     "name": "stdout",
     "output_type": "stream",
     "text": [
      "4\n"
     ]
    }
   ],
   "source": [
    "# Floor Division //\n",
    "print(8//2)"
   ]
  },
  {
   "cell_type": "markdown",
   "id": "69bd5296-20ec-4c8a-8715-c1b179de7b6f",
   "metadata": {},
   "source": [
    "# Remainder %\n",
    "print(8%2)"
   ]
  },
  {
   "cell_type": "code",
   "execution_count": 38,
   "id": "9072a920-cf6f-443b-b4d7-c5dff9b1f00e",
   "metadata": {},
   "outputs": [
    {
     "name": "stdout",
     "output_type": "stream",
     "text": [
      "10\n"
     ]
    }
   ],
   "source": [
    "# Addition +\n",
    "print(8+2)"
   ]
  },
  {
   "cell_type": "code",
   "execution_count": 39,
   "id": "d109321d-4ce9-45bb-a41e-9e53054c408b",
   "metadata": {},
   "outputs": [
    {
     "name": "stdout",
     "output_type": "stream",
     "text": [
      "6\n"
     ]
    }
   ],
   "source": [
    "# Subtraction -\n",
    "print(8-2)"
   ]
  },
  {
   "cell_type": "markdown",
   "id": "09ace2c4-d5db-47c1-999f-1db84bfd8700",
   "metadata": {},
   "source": [
    "## Operators and parentheses\n",
    "- ubexpressions in parentheses are always calculated first."
   ]
  },
  {
   "cell_type": "code",
   "execution_count": 40,
   "id": "959ee4c4-1f4f-46e9-9e87-df93fc8ddde6",
   "metadata": {},
   "outputs": [
    {
     "name": "stdout",
     "output_type": "stream",
     "text": [
      "10.0\n"
     ]
    }
   ],
   "source": [
    "print((5 * ((25 % 13) + 100) / (2 * 13)) // 2)"
   ]
  },
  {
   "cell_type": "markdown",
   "id": "a74c7c73-6624-48a9-917f-61f63677001b",
   "metadata": {},
   "source": [
    "# Veriables\n",
    "Variables do not appear in a program automatically. As a developer, you must decide how many and which variables to use in your programs."
   ]
  },
  {
   "cell_type": "markdown",
   "id": "2b66c820-d4a6-435e-9051-6bcbb5394e93",
   "metadata": {},
   "source": [
    "Here are some correct, but not always convenient variable names:\n",
    "\n",
    "- MyVariable\n",
    "- i\n",
    "- l\n",
    "- t34\n",
    "- Exchange_Rate\n",
    "- counter\n",
    "- days_to_christmas\n",
    "- TheNameIsTooLongAndHardlyReadable"
   ]
  },
  {
   "cell_type": "code",
   "execution_count": 43,
   "id": "bb6e7133-de28-424d-a358-28592ff41ecc",
   "metadata": {},
   "outputs": [
    {
     "name": "stdout",
     "output_type": "stream",
     "text": [
      "I am Learning Python\n"
     ]
    }
   ],
   "source": [
    "my_veriable = \"I am Learning Python\" # storing veriable in (my_veriable)\n",
    "print(my_veriable)"
   ]
  },
  {
   "cell_type": "code",
   "execution_count": 44,
   "id": "567338ff-a33c-4661-8d99-bc5103928488",
   "metadata": {},
   "outputs": [
    {
     "name": "stdout",
     "output_type": "stream",
     "text": [
      "Saif 25 65.5 Pakistan True\n"
     ]
    }
   ],
   "source": [
    "# we can store strinf ,int, floats, bolean, etc\n",
    "name = \"Saif\"\n",
    "age = 25\n",
    "height = 65.5\n",
    "Country = \"Pakistan\"\n",
    "is_present =True\n",
    "print(name, age, height,Country, is_present)"
   ]
  },
  {
   "cell_type": "code",
   "execution_count": 50,
   "id": "bd99c578-8d36-41b2-a162-a30032661d7b",
   "metadata": {},
   "outputs": [
    {
     "name": "stdout",
     "output_type": "stream",
     "text": [
      "SaifUllah\n"
     ]
    }
   ],
   "source": [
    "#Assigning New Value to Existing Value\n",
    "name = name + \"Ullah\"\n",
    "print(name)"
   ]
  },
  {
   "cell_type": "code",
   "execution_count": 51,
   "id": "ef3e0ddf-f851-4326-9980-45240582318c",
   "metadata": {},
   "outputs": [
    {
     "name": "stdout",
     "output_type": "stream",
     "text": [
      "SaifUllah 25 65.5 Pakistan True\n"
     ]
    }
   ],
   "source": [
    "print(name, age, height,Country, is_present)"
   ]
  },
  {
   "cell_type": "code",
   "execution_count": 52,
   "id": "e2f5e181-ec4a-4cfe-83f6-8c2799790604",
   "metadata": {},
   "outputs": [
    {
     "name": "stdout",
     "output_type": "stream",
     "text": [
      "c = 5.0\n"
     ]
    }
   ],
   "source": [
    "# Solving simple mathematical problems\n",
    "a = 3.0\n",
    "b = 4.0\n",
    "c = (a ** 2 + b ** 2) ** 0.5\n",
    "print(\"c =\", c)\n",
    " "
   ]
  },
  {
   "cell_type": "code",
   "execution_count": 55,
   "id": "9b4428b3-b70f-4966-8b76-648dc7cf6fd8",
   "metadata": {},
   "outputs": [
    {
     "name": "stdout",
     "output_type": "stream",
     "text": [
      "4\n"
     ]
    }
   ],
   "source": [
    "#Shortcut operator\n",
    "x = 2\n",
    "x = x*2\n",
    "print(x)"
   ]
  },
  {
   "cell_type": "code",
   "execution_count": 56,
   "id": "c49d14e0-e419-4f49-8636-b48e33b87dd7",
   "metadata": {},
   "outputs": [
    {
     "name": "stdout",
     "output_type": "stream",
     "text": [
      "7.38 miles is 20 kilometers\n",
      "12.25 kilometers is 30 miles\n"
     ]
    }
   ],
   "source": [
    " ## Variables ‒ a simple converter\n",
    "kilometers = 12.25\n",
    "miles = 7.38\n",
    "\n",
    "miles_to_kilometers = 20\n",
    "kilometers_to_miles = 30\n",
    "\n",
    "print(miles, \"miles is\", round(miles_to_kilometers, 2), \"kilometers\")\n",
    "print(kilometers, \"kilometers is\", round(kilometers_to_miles, 2), \"miles\")"
   ]
  },
  {
   "cell_type": "markdown",
   "id": "979affeb-156a-4ff2-8db4-649de06d2600",
   "metadata": {},
   "source": [
    "# COMMENTS"
   ]
  },
  {
   "cell_type": "code",
   "execution_count": 57,
   "id": "f440f2f6-83c3-4513-8748-1ef99e97dfb3",
   "metadata": {},
   "outputs": [
    {
     "name": "stdout",
     "output_type": "stream",
     "text": [
      "c = 6.4031242374328485\n"
     ]
    }
   ],
   "source": [
    "# This program evaluates the hypotenuse c.\n",
    "# a and b are the lengths of the legs.\n",
    "a = 4.0\n",
    "b = 5.0\n",
    "c = (a ** 2 + b ** 2) ** 0.5  # We use ** instead of a square root.\n",
    "print(\"c =\", c)"
   ]
  },
  {
   "cell_type": "markdown",
   "id": "b5e4c54b-e09a-4a39-a898-27ae76f32b7e",
   "metadata": {},
   "source": [
    "# The input() function"
   ]
  },
  {
   "cell_type": "code",
   "execution_count": 59,
   "id": "b063aaa4-e2c7-4c31-80ac-af042a8dfe79",
   "metadata": {},
   "outputs": [
    {
     "name": "stdout",
     "output_type": "stream",
     "text": [
      "Tell me anything...\n"
     ]
    },
    {
     "name": "stdin",
     "output_type": "stream",
     "text": [
      " Hello, World!\n"
     ]
    },
    {
     "name": "stdout",
     "output_type": "stream",
     "text": [
      "Hmm... Hello, World!\n"
     ]
    }
   ],
   "source": [
    "print(\"Tell me anything...\")\n",
    "anything = input()\n",
    "print(\"Hmm...\", anything)"
   ]
  },
  {
   "cell_type": "code",
   "execution_count": 60,
   "id": "2b5f94bf-da10-43e7-bac4-604923168a88",
   "metadata": {},
   "outputs": [
    {
     "name": "stdin",
     "output_type": "stream",
     "text": [
      "Tell me anything... Python is Easy\n"
     ]
    },
    {
     "name": "stdout",
     "output_type": "stream",
     "text": [
      "Hmm... Python is Easy ...Really?\n"
     ]
    }
   ],
   "source": [
    "anything = input(\"Tell me anything...\")\n",
    "print(\"Hmm...\", anything, \"...Really?\")"
   ]
  },
  {
   "cell_type": "code",
   "execution_count": 61,
   "id": "0ed7167f-e5ce-43b9-af62-07ebd9798cda",
   "metadata": {},
   "outputs": [
    {
     "name": "stdin",
     "output_type": "stream",
     "text": [
      "Enter a number:  2\n"
     ]
    },
    {
     "ename": "TypeError",
     "evalue": "unsupported operand type(s) for ** or pow(): 'str' and 'float'",
     "output_type": "error",
     "traceback": [
      "\u001b[1;31m---------------------------------------------------------------------------\u001b[0m",
      "\u001b[1;31mTypeError\u001b[0m                                 Traceback (most recent call last)",
      "Cell \u001b[1;32mIn[61], line 2\u001b[0m\n\u001b[0;32m      1\u001b[0m anything \u001b[38;5;241m=\u001b[39m \u001b[38;5;28minput\u001b[39m(\u001b[38;5;124m\"\u001b[39m\u001b[38;5;124mEnter a number: \u001b[39m\u001b[38;5;124m\"\u001b[39m)\n\u001b[1;32m----> 2\u001b[0m something \u001b[38;5;241m=\u001b[39m anything \u001b[38;5;241m*\u001b[39m\u001b[38;5;241m*\u001b[39m \u001b[38;5;241m2.0\u001b[39m\n\u001b[0;32m      3\u001b[0m \u001b[38;5;28mprint\u001b[39m(anything, \u001b[38;5;124m\"\u001b[39m\u001b[38;5;124mto the power of 2 is\u001b[39m\u001b[38;5;124m\"\u001b[39m, something)\n",
      "\u001b[1;31mTypeError\u001b[0m: unsupported operand type(s) for ** or pow(): 'str' and 'float'"
     ]
    }
   ],
   "source": [
    "anything = input(\"Enter a number: \")\n",
    "something = anything ** 2.0\n",
    "print(anything, \"to the power of 2 is\", something)\n",
    "\n",
    "\n",
    "#The last line of the sentence explains everything ‒ you tried to apply the ** operator to 'str' (string) accompanied with 'float'"
   ]
  },
  {
   "cell_type": "code",
   "execution_count": 62,
   "id": "e636a6b0-0dc1-4097-ae69-a0f73ed29405",
   "metadata": {},
   "outputs": [
    {
     "name": "stdin",
     "output_type": "stream",
     "text": [
      "Enter a number:  2\n"
     ]
    },
    {
     "name": "stdout",
     "output_type": "stream",
     "text": [
      "2.0 to the power of 2 is 4.0\n"
     ]
    }
   ],
   "source": [
    "anything = float(input(\"Enter a number: \")) #\n",
    "something = anything ** 2.0\n",
    "print(anything, \"to the power of 2 is\", something)"
   ]
  },
  {
   "cell_type": "code",
   "execution_count": 64,
   "id": "ffa7f921-769d-4b0c-afb7-4c855a4b7b76",
   "metadata": {},
   "outputs": [
    {
     "name": "stdin",
     "output_type": "stream",
     "text": [
      "Input first leg length:  3\n",
      "Input second leg length:  4\n"
     ]
    },
    {
     "name": "stdout",
     "output_type": "stream",
     "text": [
      "Hypotenuse length is 5.0\n"
     ]
    }
   ],
   "source": [
    "# Having a team consisting of the trio input()-int()-float() opens up lots of new possibilities.\n",
    "leg_a = float(input(\"Input first leg length: \"))\n",
    "leg_b = float(input(\"Input second leg length: \"))\n",
    "print(\"Hypotenuse length is\", (leg_a**2 + leg_b**2) ** .5)"
   ]
  },
  {
   "cell_type": "markdown",
   "id": "ffacf3bb-73e3-43fc-90fb-c912a92a1b45",
   "metadata": {},
   "source": [
    "## String operators"
   ]
  },
  {
   "cell_type": "code",
   "execution_count": 65,
   "id": "a80d83c6-ed2f-41bd-84d6-be67c67711e4",
   "metadata": {},
   "outputs": [
    {
     "name": "stdin",
     "output_type": "stream",
     "text": [
      "What is Your first name, please?  Saif\n",
      "What  is Your last name, please?  Ullah\n"
     ]
    },
    {
     "name": "stdout",
     "output_type": "stream",
     "text": [
      "Thank you.\n",
      "\n",
      "Your name is Saif Ullah.\n"
     ]
    }
   ],
   "source": [
    "fnam = input(\"What is Your first name, please? \")\n",
    "lnam = input(\"What  is Your last name, please? \")\n",
    "print(\"Thank you.\")\n",
    "print(\"\\nYour name is \" + fnam + \" \" + lnam + \".\")"
   ]
  },
  {
   "cell_type": "code",
   "execution_count": null,
   "id": "3a1bc6c5-2506-46d6-b40e-0ae9c495e5e1",
   "metadata": {},
   "outputs": [],
   "source": []
  }
 ],
 "metadata": {
  "kernelspec": {
   "display_name": "Python 3 (ipykernel)",
   "language": "python",
   "name": "python3"
  },
  "language_info": {
   "codemirror_mode": {
    "name": "ipython",
    "version": 3
   },
   "file_extension": ".py",
   "mimetype": "text/x-python",
   "name": "python",
   "nbconvert_exporter": "python",
   "pygments_lexer": "ipython3",
   "version": "3.11.7"
  }
 },
 "nbformat": 4,
 "nbformat_minor": 5
}
