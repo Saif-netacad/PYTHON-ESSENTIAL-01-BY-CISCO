{
 "cells": [
  {
   "attachments": {
    "6fd28fbe-cdd1-4a18-951e-5aecfaba3f71.JPG": {
     "image/jpeg": "[encoded data removed]"
    }
   },
   "cell_type": "markdown",
   "id": "2d55e0ef-8f26-4fcd-a5dc-d43220b11de2",
   "metadata": {},
   "source": [
    "# <B>MODULE 04<B>\n",
    "![Capture.JPG](attachment:6fd28fbe-cdd1-4a18-951e-5aecfaba3f71.JPG)"
   ]
  },
  {
   "cell_type": "markdown",
   "id": "f9738d3e-dd6c-417d-a14f-3f37ae0ae32f",
   "metadata": {},
   "source": [
    "- <B>Function <b>\n",
    "- <b>Tuples <b>\n",
    "- <b>Dictionaries <b>\n",
    "- <b>Exceptions <b>\n",
    "- <b>Data Processing <b>"
   ]
  },
  {
   "cell_type": "markdown",
   "id": "211a1c32-c6fb-49da-b2b1-aecff706b4a6",
   "metadata": {},
   "source": [
    "## <b>Functions <b>"
   ]
  },
  {
   "cell_type": "code",
   "execution_count": 3,
   "id": "227d3163-2c32-4cf3-b78c-183714a19eb7",
   "metadata": {},
   "outputs": [
    {
     "name": "stdout",
     "output_type": "stream",
     "text": [
      "Enter a value: \n"
     ]
    },
    {
     "name": "stdin",
     "output_type": "stream",
     "text": [
      " 2\n"
     ]
    },
    {
     "name": "stdout",
     "output_type": "stream",
     "text": [
      "Enter a value: \n"
     ]
    },
    {
     "name": "stdin",
     "output_type": "stream",
     "text": [
      " 4\n"
     ]
    },
    {
     "name": "stdout",
     "output_type": "stream",
     "text": [
      "Enter a value: \n"
     ]
    },
    {
     "name": "stdin",
     "output_type": "stream",
     "text": [
      " 6\n"
     ]
    }
   ],
   "source": [
    "\n",
    "print(\"Enter a value: \")\n",
    "a = int(input())\n",
    "\n",
    "print(\"Enter a value: \")\n",
    "b = int(input())\n",
    "\n",
    "print(\"Enter a value: \")\n",
    "c = int(input())"
   ]
  },
  {
   "cell_type": "code",
   "execution_count": 6,
   "id": "4df06aa5-ebd5-4e79-976b-ee2ef2888dc5",
   "metadata": {},
   "outputs": [
    {
     "name": "stdout",
     "output_type": "stream",
     "text": [
      "Enter a value: \n"
     ]
    },
    {
     "name": "stdin",
     "output_type": "stream",
     "text": [
      " 22\n"
     ]
    },
    {
     "name": "stdout",
     "output_type": "stream",
     "text": [
      "Enter a value: \n"
     ]
    },
    {
     "name": "stdin",
     "output_type": "stream",
     "text": [
      " 23\n"
     ]
    },
    {
     "name": "stdout",
     "output_type": "stream",
     "text": [
      "Enter a value: \n"
     ]
    },
    {
     "name": "stdin",
     "output_type": "stream",
     "text": [
      " 24\n"
     ]
    }
   ],
   "source": [
    "def message():\n",
    "    print(\"Enter a value: \")\n",
    " \n",
    "message()\n",
    "a = int(input())\n",
    "message()\n",
    "b = int(input())\n",
    "message()\n",
    "c = int(input())"
   ]
  },
  {
   "cell_type": "code",
   "execution_count": 7,
   "id": "64a143cc-d8cb-456b-a448-5fcc888353ea",
   "metadata": {},
   "outputs": [
    {
     "name": "stdout",
     "output_type": "stream",
     "text": [
      "Enter telephone number 11\n",
      "Enter price number 5\n",
      "Enter number number number\n"
     ]
    }
   ],
   "source": [
    "def message(what, number):\n",
    "    print(\"Enter\", what, \"number\", number)\n",
    " \n",
    "message(\"telephone\", 11)\n",
    "message(\"price\", 5)\n",
    "message(\"number\", \"number\")"
   ]
  },
  {
   "cell_type": "code",
   "execution_count": 10,
   "id": "f652d2ba-f210-4bcb-bdf5-d6255148c8f9",
   "metadata": {},
   "outputs": [
    {
     "name": "stdout",
     "output_type": "stream",
     "text": [
      "Hello, my name is SAif Ullah\n",
      "Hello, my name is Asad Khan\n",
      "Hello, my name is Hassan Ali\n"
     ]
    }
   ],
   "source": [
    "def introduction(first_name, last_name):\n",
    "    print(\"Hello, my name is\", first_name, last_name)\n",
    " \n",
    "introduction(\"SAif\", \"Ullah\")\n",
    "introduction(\"Asad\", \"Khan\")\n",
    "introduction(\"Hassan\", \"Ali\")\n"
   ]
  },
  {
   "cell_type": "code",
   "execution_count": 11,
   "id": "38744848-363a-4864-9d00-cbd1b94815b4",
   "metadata": {},
   "outputs": [
    {
     "name": "stdout",
     "output_type": "stream",
     "text": [
      "Hello, my name is James Bond\n",
      "Hello, my name is Luke Skywalker\n"
     ]
    }
   ],
   "source": [
    "#keyword Argument\n",
    "def introduction(first_name, last_name):\n",
    "    print(\"Hello, my name is\", first_name, last_name)\n",
    " \n",
    "introduction(first_name = \"James\", last_name = \"Bond\")\n",
    "introduction(last_name = \"Skywalker\", first_name = \"Luke\")"
   ]
  },
  {
   "cell_type": "code",
   "execution_count": 15,
   "id": "734a6588-891f-42af-b088-5ca4becb44c8",
   "metadata": {},
   "outputs": [
    {
     "name": "stdout",
     "output_type": "stream",
     "text": [
      "1 + 2 + 3 = 6\n"
     ]
    }
   ],
   "source": [
    "def adding(a, b, c):\n",
    "    print(a, \"+\", b, \"+\", c, \"=\", a + b + c)\n",
    "adding(1, 2, 3)"
   ]
  },
  {
   "cell_type": "code",
   "execution_count": 17,
   "id": "9e557c01-7826-4495-9de0-f3cccc589008",
   "metadata": {},
   "outputs": [
    {
     "name": "stdout",
     "output_type": "stream",
     "text": [
      "3\n",
      "-3\n",
      "3\n",
      "3\n",
      "3\n",
      "3\n"
     ]
    }
   ],
   "source": [
    "#Ex. 1\n",
    "def subtra(a, b):\n",
    "    print(a - b)\n",
    " \n",
    "subtra(5, 2) # outputs: 3\n",
    "subtra(2, 5) # outputs: -3\n",
    " \n",
    " \n",
    "#Ex. 2\n",
    "def subtra(a, b):\n",
    "    print(a - b)\n",
    " \n",
    "subtra(a=5, b=2) # outputs: 3\n",
    "subtra(b=2, a=5) # outputs: 3\n",
    " \n",
    "#Ex. 3\n",
    "def subtra(a, b):\n",
    "    print(a - b)\n",
    " \n",
    "subtra(5, b=2) # outputs: 3\n",
    "subtra(5, 2) # outputs: 3\n"
   ]
  },
  {
   "cell_type": "markdown",
   "id": "27d5f79b-e297-45da-bfee-9442cf58fabf",
   "metadata": {},
   "source": [
    "### the return instruction"
   ]
  },
  {
   "cell_type": "code",
   "execution_count": 19,
   "id": "846cf67f-2c28-4091-af1f-d3ad87a56068",
   "metadata": {},
   "outputs": [
    {
     "name": "stdout",
     "output_type": "stream",
     "text": [
      "Happy New Year!\n"
     ]
    }
   ],
   "source": [
    "def happy_new_year(wishes = True):\n",
    "    print(\"Three...\")\n",
    "    print(\"Two...\")\n",
    "    print(\"One...\")\n",
    "    if not wishes:\n",
    "        return\n",
    " \n",
    "print(\"Happy New Year!\")\n",
    " "
   ]
  },
  {
   "cell_type": "code",
   "execution_count": 20,
   "id": "16453432-6567-48ad-a965-d78fc5a43f18",
   "metadata": {},
   "outputs": [
    {
     "name": "stdout",
     "output_type": "stream",
     "text": [
      "The boring_function has returned its result. It's: 123\n"
     ]
    }
   ],
   "source": [
    "def boring_function():\n",
    "    return 123\n",
    " \n",
    "x = boring_function()\n",
    " \n",
    "print(\"The boring_function has returned its result. It's:\", x)"
   ]
  },
  {
   "cell_type": "code",
   "execution_count": 21,
   "id": "93760606-4f28-4a6f-9caf-3605f797ab49",
   "metadata": {},
   "outputs": [
    {
     "name": "stdout",
     "output_type": "stream",
     "text": [
      "This lesson is interesting!\n",
      "'Boredom Mode' ON.\n",
      "This lesson is boring...\n"
     ]
    }
   ],
   "source": [
    "def boring_function():\n",
    "    print(\"'Boredom Mode' ON.\")\n",
    "    return 123\n",
    " \n",
    "print(\"This lesson is interesting!\")\n",
    "boring_function()\n",
    "print(\"This lesson is boring...\")"
   ]
  },
  {
   "cell_type": "markdown",
   "id": "58a803e1-1adf-45ea-bffc-e000e0e0841a",
   "metadata": {},
   "source": [
    "### None"
   ]
  },
  {
   "cell_type": "code",
   "execution_count": 22,
   "id": "62ddf419-1aa7-443d-a743-ce879271e810",
   "metadata": {},
   "outputs": [
    {
     "ename": "TypeError",
     "evalue": "unsupported operand type(s) for +: 'NoneType' and 'int'",
     "output_type": "error",
     "traceback": [
      "\u001b[1;31m---------------------------------------------------------------------------\u001b[0m",
      "\u001b[1;31mTypeError\u001b[0m                                 Traceback (most recent call last)",
      "Cell \u001b[1;32mIn[22], line 1\u001b[0m\n\u001b[1;32m----> 1\u001b[0m \u001b[38;5;28mprint\u001b[39m(\u001b[38;5;28;01mNone\u001b[39;00m \u001b[38;5;241m+\u001b[39m \u001b[38;5;241m2\u001b[39m)\n",
      "\u001b[1;31mTypeError\u001b[0m: unsupported operand type(s) for +: 'NoneType' and 'int'"
     ]
    }
   ],
   "source": [
    "print(None + 2)"
   ]
  },
  {
   "cell_type": "code",
   "execution_count": 23,
   "id": "513690a6-c625-42a3-8dac-4d5c31784a65",
   "metadata": {},
   "outputs": [
    {
     "name": "stdout",
     "output_type": "stream",
     "text": [
      "Sorry, you don't carry any value\n"
     ]
    }
   ],
   "source": [
    "value = None\n",
    "if value is None:\n",
    "    print(\"Sorry, you don't carry any value\")"
   ]
  },
  {
   "cell_type": "code",
   "execution_count": 24,
   "id": "7ac95486-f583-4654-8dd6-2e807eab3ab7",
   "metadata": {},
   "outputs": [],
   "source": [
    "def strange_function(n):\n",
    "    if(n % 2 == 0):\n",
    "        return True"
   ]
  },
  {
   "cell_type": "code",
   "execution_count": 27,
   "id": "b0895d88-3131-4823-aba3-2281fb9360bd",
   "metadata": {},
   "outputs": [
    {
     "name": "stdout",
     "output_type": "stream",
     "text": [
      "12\n",
      "None\n"
     ]
    }
   ],
   "source": [
    "def multiply(a, b):\n",
    "    return a * b\n",
    " \n",
    "print(multiply(3, 4)) # outputs: 12\n",
    " \n",
    " \n",
    "def multiply(a, b):\n",
    "    return\n",
    " \n",
    "print(multiply(3, 4)) # outputs: None\n",
    " \n"
   ]
  },
  {
   "cell_type": "code",
   "execution_count": 28,
   "id": "866a572e-6b70-4645-a453-095677e8daab",
   "metadata": {},
   "outputs": [
    {
     "name": "stdout",
     "output_type": "stream",
     "text": [
      "Happy Birthday!\n"
     ]
    }
   ],
   "source": [
    "def wishes():\n",
    "    return \"Happy Birthday!\"\n",
    " \n",
    "w = wishes()\n",
    " \n",
    "print(w) # outputs: Happy Birthday!\n",
    " "
   ]
  },
  {
   "cell_type": "code",
   "execution_count": 29,
   "id": "9c90e5be-c6a3-40d9-98f9-bed08599fd7b",
   "metadata": {},
   "outputs": [
    {
     "name": "stdout",
     "output_type": "stream",
     "text": [
      "My Wishes\n",
      "My Wishes\n",
      "Happy Birthday\n"
     ]
    }
   ],
   "source": [
    "# Example 1\n",
    "def wishes():\n",
    "    print(\"My Wishes\")\n",
    "    return \"Happy Birthday\"\n",
    " \n",
    "wishes() # outputs: My Wishes\n",
    " \n",
    " \n",
    "# Example 2\n",
    "def wishes():\n",
    "    print(\"My Wishes\")\n",
    "    return \"Happy Birthday\"\n",
    " \n",
    "print(wishes())\n",
    " \n",
    "# outputs: My Wishes\n",
    "# Happy Birthday"
   ]
  },
  {
   "cell_type": "code",
   "execution_count": 30,
   "id": "f4df5e70-73ea-497a-aa1f-f90819c76e5b",
   "metadata": {},
   "outputs": [
    {
     "name": "stdout",
     "output_type": "stream",
     "text": [
      "Hi, Adam\n",
      "Hi, John\n",
      "Hi, Lucy\n"
     ]
    }
   ],
   "source": [
    "def hi_everybody(my_list):\n",
    "    for name in my_list:\n",
    "        print(\"Hi,\", name)\n",
    " \n",
    "hi_everybody([\"Adam\", \"John\", \"Lucy\"])\n",
    " "
   ]
  },
  {
   "cell_type": "code",
   "execution_count": 31,
   "id": "06890fea-5e9f-499a-be04-563bbfd43e94",
   "metadata": {},
   "outputs": [
    {
     "name": "stdout",
     "output_type": "stream",
     "text": [
      "[0, 1, 2, 3, 4]\n"
     ]
    }
   ],
   "source": [
    "def create_list(n):\n",
    "    my_list = []\n",
    "    for i in range(n):\n",
    "        my_list.append(i)\n",
    "    return my_list\n",
    " \n",
    "print(create_list(5))"
   ]
  },
  {
   "cell_type": "code",
   "execution_count": 32,
   "id": "08919842-9d1e-4b36-962e-2958d14f221d",
   "metadata": {},
   "outputs": [
    {
     "name": "stdout",
     "output_type": "stream",
     "text": [
      "[0, 2, 4, 6, 8, 10]\n"
     ]
    }
   ],
   "source": [
    "def even_num_lst(ran):\n",
    "    lst = []\n",
    "    for num in range(ran):\n",
    "        if num % 2 == 0:\n",
    "            lst.append(num)\n",
    "    return lst\n",
    " \n",
    "print(even_num_lst(11))"
   ]
  },
  {
   "cell_type": "code",
   "execution_count": 33,
   "id": "1a7a3543-a3e7-4c47-9f1e-1f3a08fee1f7",
   "metadata": {},
   "outputs": [
    {
     "name": "stdout",
     "output_type": "stream",
     "text": [
      "[1, 4, 9, 16, 25]\n"
     ]
    }
   ],
   "source": [
    "def list_updater(lst):\n",
    "    upd_list = []\n",
    "    for elem in lst:\n",
    "        elem **= 2\n",
    "        upd_list.append(elem)\n",
    "    return upd_list\n",
    " \n",
    "foo = [1, 2, 3, 4, 5]\n",
    "print(list_updater(foo))"
   ]
  },
  {
   "cell_type": "markdown",
   "id": "2d14364b-2fbf-4799-8524-aebaed3a8ae5",
   "metadata": {},
   "source": [
    "# Functions and scopes"
   ]
  },
  {
   "cell_type": "code",
   "execution_count": 34,
   "id": "3a81945e-6066-4dc4-b935-49912a916e4f",
   "metadata": {},
   "outputs": [
    {
     "name": "stdout",
     "output_type": "stream",
     "text": [
      "123\n"
     ]
    }
   ],
   "source": [
    "def scope_test():\n",
    "    x = 123\n",
    "\n",
    "\n",
    "scope_test()\n",
    "print(x)"
   ]
  },
  {
   "cell_type": "code",
   "execution_count": 35,
   "id": "a261a78b-3f29-4f60-894e-fd8efa1eb979",
   "metadata": {},
   "outputs": [
    {
     "name": "stdout",
     "output_type": "stream",
     "text": [
      "Do I know that variable? 1\n",
      "1\n"
     ]
    }
   ],
   "source": [
    "def my_function():\n",
    "    print(\"Do I know that variable?\", var)\n",
    "\n",
    "\n",
    "var = 1\n",
    "my_function()\n",
    "print(var)"
   ]
  },
  {
   "cell_type": "code",
   "execution_count": 36,
   "id": "3bf193c5-ecef-4ad0-a3e7-4b0975052488",
   "metadata": {},
   "outputs": [
    {
     "ename": "SyntaxError",
     "evalue": "invalid syntax (1293769687.py, line 1)",
     "output_type": "error",
     "traceback": [
      "\u001b[1;36m  Cell \u001b[1;32mIn[36], line 1\u001b[1;36m\u001b[0m\n\u001b[1;33m    f my_function():\u001b[0m\n\u001b[1;37m      ^\u001b[0m\n\u001b[1;31mSyntaxError\u001b[0m\u001b[1;31m:\u001b[0m invalid syntax\n"
     ]
    }
   ],
   "source": [
    "f my_function():\n",
    "    var = 2\n",
    "    print(\"Do I know that variable?\", var)\n",
    " \n",
    " \n",
    "var = 1\n",
    "my_function()\n",
    "print(var)\n",
    " "
   ]
  },
  {
   "cell_type": "code",
   "execution_count": 37,
   "id": "c6ed0569-c173-44b7-bbda-25d37a95c240",
   "metadata": {},
   "outputs": [
    {
     "name": "stdout",
     "output_type": "stream",
     "text": [
      "Do I know that variable? 2\n",
      "2\n"
     ]
    }
   ],
   "source": [
    "def my_function():\n",
    "    global var\n",
    "    var = 2\n",
    "    print(\"Do I know that variable?\", var)\n",
    "\n",
    "\n",
    "var = 1\n",
    "my_function()\n",
    "print(var)\n"
   ]
  },
  {
   "cell_type": "code",
   "execution_count": 38,
   "id": "76cd8955-359c-4ca5-ab59-cfea11722f9e",
   "metadata": {},
   "outputs": [
    {
     "name": "stdout",
     "output_type": "stream",
     "text": [
      "Print #1: [2, 3]\n",
      "Print #2: [2, 3]\n",
      "Print #3: [0, 1]\n",
      "Print #4: [2, 3]\n",
      "Print #5: [2, 3]\n"
     ]
    }
   ],
   "source": [
    "def my_function(my_list_1):\n",
    "    print(\"Print #1:\", my_list_1)\n",
    "    print(\"Print #2:\", my_list_2)\n",
    "    my_list_1 = [0, 1]\n",
    "    print(\"Print #3:\", my_list_1)\n",
    "    print(\"Print #4:\", my_list_2)\n",
    " \n",
    " \n",
    "my_list_2 = [2, 3]\n",
    "my_function(my_list_2)\n",
    "print(\"Print #5:\", my_list_2)"
   ]
  },
  {
   "cell_type": "code",
   "execution_count": 39,
   "id": "41705c95-e4df-42b4-accd-afb3ad59f546",
   "metadata": {},
   "outputs": [
    {
     "name": "stdout",
     "output_type": "stream",
     "text": [
      "14\n"
     ]
    }
   ],
   "source": [
    "var = 2\n",
    " \n",
    " \n",
    "def mult_by_var(x):\n",
    "    return x * var\n",
    " \n",
    " \n",
    "print(mult_by_var(7)) # outputs: 14\n",
    " "
   ]
  },
  {
   "cell_type": "code",
   "execution_count": 40,
   "id": "07039f65-12f3-47f2-ba46-685a0520148d",
   "metadata": {},
   "outputs": [
    {
     "name": "stdout",
     "output_type": "stream",
     "text": [
      "35\n"
     ]
    }
   ],
   "source": [
    "def mult(x):\n",
    "    var = 5\n",
    "    return x * var\n",
    " \n",
    " \n",
    "print(mult(7)) # outputs: 35\n",
    " "
   ]
  },
  {
   "cell_type": "code",
   "execution_count": 41,
   "id": "aea94412-2176-4fa7-87b6-ac45dc1c596e",
   "metadata": {},
   "outputs": [
    {
     "name": "stdout",
     "output_type": "stream",
     "text": [
      "2\n",
      "5\n",
      "5\n"
     ]
    }
   ],
   "source": [
    "var = 2\n",
    "print(var) # outputs: 2\n",
    " \n",
    " \n",
    "def return_var():\n",
    "    global var\n",
    "    var = 5\n",
    "    return var\n",
    " \n",
    " \n",
    "print(return_var()) # outputs: 5\n",
    "print(var) # outputs: 5"
   ]
  },
  {
   "cell_type": "code",
   "execution_count": null,
   "id": "7dd952c9-66be-4c90-95af-c5c4c7078fb8",
   "metadata": {},
   "outputs": [],
   "source": []
  }
 ],
 "metadata": {
  "kernelspec": {
   "display_name": "Python 3 (ipykernel)",
   "language": "python",
   "name": "python3"
  },
  "language_info": {
   "codemirror_mode": {
    "name": "ipython",
    "version": 3
   },
   "file_extension": ".py",
   "mimetype": "text/x-python",
   "name": "python",
   "nbconvert_exporter": "python",
   "pygments_lexer": "ipython3",
   "version": "3.11.7"
  }
 },
 "nbformat": 4,
 "nbformat_minor": 5
}
